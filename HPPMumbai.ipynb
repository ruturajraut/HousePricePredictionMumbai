{
 "cells": [
  {
   "cell_type": "code",
   "execution_count": 1,
   "id": "1ad978e4",
   "metadata": {},
   "outputs": [],
   "source": [
    "# This program predict the house price\n",
    "\n",
    "# import dependencies\n",
    "import pandas as pd\n",
    "import numpy as np\n",
    "from matplotlib import pyplot as plt\n",
    "%matplotlib inline\n",
    "import matplotlib\n",
    "matplotlib.rcParams[\"figure.figsize\"]=(20,10)\n"
   ]
  },
  {
   "cell_type": "code",
   "execution_count": 2,
   "id": "137af767",
   "metadata": {},
   "outputs": [
    {
     "data": {
      "text/html": [
       "<div>\n",
       "<style scoped>\n",
       "    .dataframe tbody tr th:only-of-type {\n",
       "        vertical-align: middle;\n",
       "    }\n",
       "\n",
       "    .dataframe tbody tr th {\n",
       "        vertical-align: top;\n",
       "    }\n",
       "\n",
       "    .dataframe thead th {\n",
       "        text-align: right;\n",
       "    }\n",
       "</style>\n",
       "<table border=\"1\" class=\"dataframe\">\n",
       "  <thead>\n",
       "    <tr style=\"text-align: right;\">\n",
       "      <th></th>\n",
       "      <th>Price</th>\n",
       "      <th>Area</th>\n",
       "      <th>Location</th>\n",
       "      <th>sizeRkorBhk</th>\n",
       "      <th>Num_of_bedrooms</th>\n",
       "      <th>Resale</th>\n",
       "      <th>MaintenanceStaff</th>\n",
       "      <th>Gymnasium</th>\n",
       "      <th>SwimmingPool</th>\n",
       "      <th>LandscapedGardens</th>\n",
       "      <th>...</th>\n",
       "      <th>LiftAvailable</th>\n",
       "      <th>BED</th>\n",
       "      <th>VaastuCompliant</th>\n",
       "      <th>Microwave</th>\n",
       "      <th>GolfCourse</th>\n",
       "      <th>TV</th>\n",
       "      <th>DiningTable</th>\n",
       "      <th>Sofa</th>\n",
       "      <th>Wardrobe</th>\n",
       "      <th>Refrigerator</th>\n",
       "    </tr>\n",
       "  </thead>\n",
       "  <tbody>\n",
       "    <tr>\n",
       "      <th>0</th>\n",
       "      <td>4850000</td>\n",
       "      <td>720</td>\n",
       "      <td>Kharghar</td>\n",
       "      <td>bhk</td>\n",
       "      <td>1</td>\n",
       "      <td>1</td>\n",
       "      <td>1</td>\n",
       "      <td>0</td>\n",
       "      <td>0</td>\n",
       "      <td>0</td>\n",
       "      <td>...</td>\n",
       "      <td>1</td>\n",
       "      <td>0</td>\n",
       "      <td>1</td>\n",
       "      <td>0</td>\n",
       "      <td>0</td>\n",
       "      <td>0</td>\n",
       "      <td>0</td>\n",
       "      <td>0</td>\n",
       "      <td>0</td>\n",
       "      <td>0</td>\n",
       "    </tr>\n",
       "    <tr>\n",
       "      <th>1</th>\n",
       "      <td>4500000</td>\n",
       "      <td>600</td>\n",
       "      <td>Kharghar</td>\n",
       "      <td>rk</td>\n",
       "      <td>0</td>\n",
       "      <td>1</td>\n",
       "      <td>1</td>\n",
       "      <td>1</td>\n",
       "      <td>1</td>\n",
       "      <td>0</td>\n",
       "      <td>...</td>\n",
       "      <td>1</td>\n",
       "      <td>0</td>\n",
       "      <td>1</td>\n",
       "      <td>0</td>\n",
       "      <td>0</td>\n",
       "      <td>0</td>\n",
       "      <td>0</td>\n",
       "      <td>0</td>\n",
       "      <td>0</td>\n",
       "      <td>0</td>\n",
       "    </tr>\n",
       "    <tr>\n",
       "      <th>2</th>\n",
       "      <td>6700000</td>\n",
       "      <td>650</td>\n",
       "      <td>Kharghar</td>\n",
       "      <td>rk</td>\n",
       "      <td>0</td>\n",
       "      <td>1</td>\n",
       "      <td>1</td>\n",
       "      <td>1</td>\n",
       "      <td>1</td>\n",
       "      <td>0</td>\n",
       "      <td>...</td>\n",
       "      <td>1</td>\n",
       "      <td>0</td>\n",
       "      <td>1</td>\n",
       "      <td>0</td>\n",
       "      <td>0</td>\n",
       "      <td>0</td>\n",
       "      <td>0</td>\n",
       "      <td>0</td>\n",
       "      <td>0</td>\n",
       "      <td>0</td>\n",
       "    </tr>\n",
       "    <tr>\n",
       "      <th>3</th>\n",
       "      <td>4500000</td>\n",
       "      <td>650</td>\n",
       "      <td>Kharghar</td>\n",
       "      <td>rk</td>\n",
       "      <td>0</td>\n",
       "      <td>1</td>\n",
       "      <td>1</td>\n",
       "      <td>0</td>\n",
       "      <td>0</td>\n",
       "      <td>1</td>\n",
       "      <td>...</td>\n",
       "      <td>1</td>\n",
       "      <td>1</td>\n",
       "      <td>1</td>\n",
       "      <td>0</td>\n",
       "      <td>0</td>\n",
       "      <td>0</td>\n",
       "      <td>0</td>\n",
       "      <td>0</td>\n",
       "      <td>1</td>\n",
       "      <td>0</td>\n",
       "    </tr>\n",
       "    <tr>\n",
       "      <th>4</th>\n",
       "      <td>5000000</td>\n",
       "      <td>665</td>\n",
       "      <td>Kharghar</td>\n",
       "      <td>rk</td>\n",
       "      <td>0</td>\n",
       "      <td>1</td>\n",
       "      <td>1</td>\n",
       "      <td>0</td>\n",
       "      <td>0</td>\n",
       "      <td>1</td>\n",
       "      <td>...</td>\n",
       "      <td>1</td>\n",
       "      <td>0</td>\n",
       "      <td>1</td>\n",
       "      <td>0</td>\n",
       "      <td>0</td>\n",
       "      <td>0</td>\n",
       "      <td>0</td>\n",
       "      <td>0</td>\n",
       "      <td>0</td>\n",
       "      <td>0</td>\n",
       "    </tr>\n",
       "  </tbody>\n",
       "</table>\n",
       "<p>5 rows × 42 columns</p>\n",
       "</div>"
      ],
      "text/plain": [
       "     Price  Area  Location sizeRkorBhk  Num_of_bedrooms  Resale  \\\n",
       "0  4850000   720  Kharghar         bhk                1       1   \n",
       "1  4500000   600  Kharghar          rk                0       1   \n",
       "2  6700000   650  Kharghar          rk                0       1   \n",
       "3  4500000   650  Kharghar          rk                0       1   \n",
       "4  5000000   665  Kharghar          rk                0       1   \n",
       "\n",
       "   MaintenanceStaff  Gymnasium  SwimmingPool  LandscapedGardens  ...  \\\n",
       "0                 1          0             0                  0  ...   \n",
       "1                 1          1             1                  0  ...   \n",
       "2                 1          1             1                  0  ...   \n",
       "3                 1          0             0                  1  ...   \n",
       "4                 1          0             0                  1  ...   \n",
       "\n",
       "   LiftAvailable  BED  VaastuCompliant  Microwave  GolfCourse  TV  \\\n",
       "0              1    0                1          0           0   0   \n",
       "1              1    0                1          0           0   0   \n",
       "2              1    0                1          0           0   0   \n",
       "3              1    1                1          0           0   0   \n",
       "4              1    0                1          0           0   0   \n",
       "\n",
       "   DiningTable  Sofa  Wardrobe  Refrigerator  \n",
       "0            0     0         0             0  \n",
       "1            0     0         0             0  \n",
       "2            0     0         0             0  \n",
       "3            0     0         1             0  \n",
       "4            0     0         0             0  \n",
       "\n",
       "[5 rows x 42 columns]"
      ]
     },
     "execution_count": 2,
     "metadata": {},
     "output_type": "execute_result"
    }
   ],
   "source": [
    "df1 = pd.read_csv(\"E:/HousePricePredictionMumbai/Mumbai.csv\")\n",
    "df1.head(5)"
   ]
  },
  {
   "cell_type": "code",
   "execution_count": 3,
   "id": "90ad872a",
   "metadata": {},
   "outputs": [
    {
     "data": {
      "text/plain": [
       "(7719, 42)"
      ]
     },
     "execution_count": 3,
     "metadata": {},
     "output_type": "execute_result"
    }
   ],
   "source": [
    "df1.shape"
   ]
  },
  {
   "cell_type": "code",
   "execution_count": 4,
   "id": "78eebee5",
   "metadata": {},
   "outputs": [
    {
     "data": {
      "text/html": [
       "<div>\n",
       "<style scoped>\n",
       "    .dataframe tbody tr th:only-of-type {\n",
       "        vertical-align: middle;\n",
       "    }\n",
       "\n",
       "    .dataframe tbody tr th {\n",
       "        vertical-align: top;\n",
       "    }\n",
       "\n",
       "    .dataframe thead th {\n",
       "        text-align: right;\n",
       "    }\n",
       "</style>\n",
       "<table border=\"1\" class=\"dataframe\">\n",
       "  <thead>\n",
       "    <tr style=\"text-align: right;\">\n",
       "      <th></th>\n",
       "      <th>Price</th>\n",
       "      <th>Area</th>\n",
       "      <th>Location</th>\n",
       "      <th>sizeRkorBhk</th>\n",
       "      <th>Num_of_bedrooms</th>\n",
       "      <th>Num_of_bathrooms</th>\n",
       "      <th>CarParking</th>\n",
       "      <th>Gasconnection</th>\n",
       "    </tr>\n",
       "  </thead>\n",
       "  <tbody>\n",
       "    <tr>\n",
       "      <th>0</th>\n",
       "      <td>4850000</td>\n",
       "      <td>720</td>\n",
       "      <td>Kharghar</td>\n",
       "      <td>bhk</td>\n",
       "      <td>1</td>\n",
       "      <td>1</td>\n",
       "      <td>1</td>\n",
       "      <td>0</td>\n",
       "    </tr>\n",
       "    <tr>\n",
       "      <th>1</th>\n",
       "      <td>4500000</td>\n",
       "      <td>600</td>\n",
       "      <td>Kharghar</td>\n",
       "      <td>rk</td>\n",
       "      <td>0</td>\n",
       "      <td>1</td>\n",
       "      <td>1</td>\n",
       "      <td>0</td>\n",
       "    </tr>\n",
       "    <tr>\n",
       "      <th>2</th>\n",
       "      <td>6700000</td>\n",
       "      <td>650</td>\n",
       "      <td>Kharghar</td>\n",
       "      <td>rk</td>\n",
       "      <td>0</td>\n",
       "      <td>1</td>\n",
       "      <td>1</td>\n",
       "      <td>0</td>\n",
       "    </tr>\n",
       "    <tr>\n",
       "      <th>3</th>\n",
       "      <td>4500000</td>\n",
       "      <td>650</td>\n",
       "      <td>Kharghar</td>\n",
       "      <td>rk</td>\n",
       "      <td>0</td>\n",
       "      <td>1</td>\n",
       "      <td>1</td>\n",
       "      <td>0</td>\n",
       "    </tr>\n",
       "    <tr>\n",
       "      <th>4</th>\n",
       "      <td>5000000</td>\n",
       "      <td>665</td>\n",
       "      <td>Kharghar</td>\n",
       "      <td>rk</td>\n",
       "      <td>0</td>\n",
       "      <td>1</td>\n",
       "      <td>1</td>\n",
       "      <td>0</td>\n",
       "    </tr>\n",
       "    <tr>\n",
       "      <th>5</th>\n",
       "      <td>17000000</td>\n",
       "      <td>2000</td>\n",
       "      <td>Kharghar</td>\n",
       "      <td>bhk</td>\n",
       "      <td>4</td>\n",
       "      <td>4</td>\n",
       "      <td>1</td>\n",
       "      <td>0</td>\n",
       "    </tr>\n",
       "    <tr>\n",
       "      <th>6</th>\n",
       "      <td>12500000</td>\n",
       "      <td>1550</td>\n",
       "      <td>Kharghar</td>\n",
       "      <td>bhk</td>\n",
       "      <td>3</td>\n",
       "      <td>3</td>\n",
       "      <td>1</td>\n",
       "      <td>1</td>\n",
       "    </tr>\n",
       "    <tr>\n",
       "      <th>7</th>\n",
       "      <td>10500000</td>\n",
       "      <td>1370</td>\n",
       "      <td>Sector-13 Kharghar</td>\n",
       "      <td>bhk</td>\n",
       "      <td>3</td>\n",
       "      <td>3</td>\n",
       "      <td>1</td>\n",
       "      <td>0</td>\n",
       "    </tr>\n",
       "  </tbody>\n",
       "</table>\n",
       "</div>"
      ],
      "text/plain": [
       "      Price  Area            Location sizeRkorBhk  Num_of_bedrooms  \\\n",
       "0   4850000   720            Kharghar         bhk                1   \n",
       "1   4500000   600            Kharghar          rk                0   \n",
       "2   6700000   650            Kharghar          rk                0   \n",
       "3   4500000   650            Kharghar          rk                0   \n",
       "4   5000000   665            Kharghar          rk                0   \n",
       "5  17000000  2000            Kharghar         bhk                4   \n",
       "6  12500000  1550            Kharghar         bhk                3   \n",
       "7  10500000  1370  Sector-13 Kharghar         bhk                3   \n",
       "\n",
       "   Num_of_bathrooms  CarParking  Gasconnection  \n",
       "0                 1           1              0  \n",
       "1                 1           1              0  \n",
       "2                 1           1              0  \n",
       "3                 1           1              0  \n",
       "4                 1           1              0  \n",
       "5                 4           1              0  \n",
       "6                 3           1              1  \n",
       "7                 3           1              0  "
      ]
     },
     "execution_count": 4,
     "metadata": {},
     "output_type": "execute_result"
    }
   ],
   "source": [
    "#drop unused columns\n",
    "df2 = df1.drop(['Resale','MaintenanceStaff','Gymnasium','SwimmingPool','LandscapedGardens','JoggingTrack','RainWaterHarvesting','IndoorGames','ShoppingMall','Intercom','SportsFacility','ATM','ClubHouse','School','24X7Security','PowerBackup','StaffQuarter','Cafeteria','MultipurposeRoom','Hospital','WashingMachine','AC','Wifi','LiftAvailable','BED','VaastuCompliant','Microwave','GolfCourse','TV','DiningTable','Sofa','Wardrobe','Refrigerator','Childrensplayarea'],axis='columns')\n",
    "df2.head(8)"
   ]
  },
  {
   "cell_type": "code",
   "execution_count": 5,
   "id": "44c33411",
   "metadata": {},
   "outputs": [
    {
     "data": {
      "text/plain": [
       "Price               0\n",
       "Area                0\n",
       "Location            0\n",
       "sizeRkorBhk         2\n",
       "Num_of_bedrooms     0\n",
       "Num_of_bathrooms    0\n",
       "CarParking          0\n",
       "Gasconnection       0\n",
       "dtype: int64"
      ]
     },
     "execution_count": 5,
     "metadata": {},
     "output_type": "execute_result"
    }
   ],
   "source": [
    "df2.isnull().sum()"
   ]
  },
  {
   "cell_type": "code",
   "execution_count": 6,
   "id": "611d53b8",
   "metadata": {},
   "outputs": [
    {
     "data": {
      "text/plain": [
       "Price               0\n",
       "Area                0\n",
       "Location            0\n",
       "sizeRkorBhk         0\n",
       "Num_of_bedrooms     0\n",
       "Num_of_bathrooms    0\n",
       "CarParking          0\n",
       "Gasconnection       0\n",
       "dtype: int64"
      ]
     },
     "execution_count": 6,
     "metadata": {},
     "output_type": "execute_result"
    }
   ],
   "source": [
    "df3 = df2.dropna()\n",
    "df3.isnull().sum()"
   ]
  },
  {
   "cell_type": "code",
   "execution_count": 7,
   "id": "62f736e2",
   "metadata": {},
   "outputs": [
    {
     "data": {
      "text/plain": [
       "array(['bhk', 'rk'], dtype=object)"
      ]
     },
     "execution_count": 7,
     "metadata": {},
     "output_type": "execute_result"
    }
   ],
   "source": [
    "df3['sizeRkorBhk'].unique()"
   ]
  },
  {
   "cell_type": "code",
   "execution_count": 8,
   "id": "4b186b5d",
   "metadata": {},
   "outputs": [
    {
     "data": {
      "text/plain": [
       "array([1, 0, 4, 3, 2, 5, 6, 7], dtype=int64)"
      ]
     },
     "execution_count": 8,
     "metadata": {},
     "output_type": "execute_result"
    }
   ],
   "source": [
    "df3['Num_of_bedrooms'].unique()"
   ]
  },
  {
   "cell_type": "code",
   "execution_count": 9,
   "id": "ff7afa0b",
   "metadata": {},
   "outputs": [
    {
     "data": {
      "text/plain": [
       "array([1, 4, 3, 2, 5, 6, 7], dtype=int64)"
      ]
     },
     "execution_count": 9,
     "metadata": {},
     "output_type": "execute_result"
    }
   ],
   "source": [
    "df3['Num_of_bathrooms'].unique()"
   ]
  },
  {
   "cell_type": "code",
   "execution_count": 10,
   "id": "c5c05ae1",
   "metadata": {},
   "outputs": [
    {
     "data": {
      "text/plain": [
       "array([ 720,  600,  650, ...,  250, 1162,  435], dtype=int64)"
      ]
     },
     "execution_count": 10,
     "metadata": {},
     "output_type": "execute_result"
    }
   ],
   "source": [
    "df3.Area.unique()"
   ]
  },
  {
   "cell_type": "code",
   "execution_count": 11,
   "id": "3ae2dc2e",
   "metadata": {},
   "outputs": [],
   "source": [
    "def is_float(x):\n",
    "    try:\n",
    "        float(x)\n",
    "    except:\n",
    "        return False\n",
    "    return True"
   ]
  },
  {
   "cell_type": "code",
   "execution_count": 13,
   "id": "639aef36",
   "metadata": {},
   "outputs": [
    {
     "data": {
      "text/html": [
       "<div>\n",
       "<style scoped>\n",
       "    .dataframe tbody tr th:only-of-type {\n",
       "        vertical-align: middle;\n",
       "    }\n",
       "\n",
       "    .dataframe tbody tr th {\n",
       "        vertical-align: top;\n",
       "    }\n",
       "\n",
       "    .dataframe thead th {\n",
       "        text-align: right;\n",
       "    }\n",
       "</style>\n",
       "<table border=\"1\" class=\"dataframe\">\n",
       "  <thead>\n",
       "    <tr style=\"text-align: right;\">\n",
       "      <th></th>\n",
       "      <th>Price</th>\n",
       "      <th>Area</th>\n",
       "      <th>Location</th>\n",
       "      <th>sizeRkorBhk</th>\n",
       "      <th>Num_of_bedrooms</th>\n",
       "      <th>Num_of_bathrooms</th>\n",
       "      <th>CarParking</th>\n",
       "      <th>Gasconnection</th>\n",
       "    </tr>\n",
       "  </thead>\n",
       "  <tbody>\n",
       "  </tbody>\n",
       "</table>\n",
       "</div>"
      ],
      "text/plain": [
       "Empty DataFrame\n",
       "Columns: [Price, Area, Location, sizeRkorBhk, Num_of_bedrooms, Num_of_bathrooms, CarParking, Gasconnection]\n",
       "Index: []"
      ]
     },
     "execution_count": 13,
     "metadata": {},
     "output_type": "execute_result"
    }
   ],
   "source": [
    "df3[~df3['Area'].apply(is_float)].head(10)"
   ]
  },
  {
   "cell_type": "code",
   "execution_count": 14,
   "id": "4b227439",
   "metadata": {},
   "outputs": [],
   "source": [
    "def convert_sqft_to_num(x):\n",
    "    tokens = x.split('-')\n",
    "    if len(tokens) == 2:\n",
    "        return(float(tokens[0])+float(tokens[1]))/2\n",
    "    try:\n",
    "        return float(x)\n",
    "    except:\n",
    "        return None"
   ]
  },
  {
   "cell_type": "code",
   "execution_count": 15,
   "id": "5e0b06c1",
   "metadata": {},
   "outputs": [
    {
     "data": {
      "text/plain": [
       "1320.0"
      ]
     },
     "execution_count": 15,
     "metadata": {},
     "output_type": "execute_result"
    }
   ],
   "source": [
    "convert_sqft_to_num('1320')"
   ]
  },
  {
   "cell_type": "code",
   "execution_count": 16,
   "id": "d82ea2f7",
   "metadata": {},
   "outputs": [
    {
     "data": {
      "text/plain": [
       "1410.0"
      ]
     },
     "execution_count": 16,
     "metadata": {},
     "output_type": "execute_result"
    }
   ],
   "source": [
    "convert_sqft_to_num('1320 - 1500')"
   ]
  },
  {
   "cell_type": "code",
   "execution_count": 17,
   "id": "f348eb04",
   "metadata": {},
   "outputs": [],
   "source": [
    "convert_sqft_to_num('1320sq m')"
   ]
  },
  {
   "cell_type": "code",
   "execution_count": 18,
   "id": "64968458",
   "metadata": {},
   "outputs": [],
   "source": [
    "# Create a copy\n",
    "df4 = df3.copy()"
   ]
  },
  {
   "cell_type": "code",
   "execution_count": 21,
   "id": "0dc3f004",
   "metadata": {},
   "outputs": [
    {
     "data": {
      "text/plain": [
       "Price                 90000000\n",
       "Area                      5245\n",
       "Location            Thane West\n",
       "sizeRkorBhk                bhk\n",
       "Num_of_bedrooms              5\n",
       "Num_of_bathrooms             5\n",
       "CarParking                   1\n",
       "Gasconnection                1\n",
       "Name: 320, dtype: object"
      ]
     },
     "execution_count": 21,
     "metadata": {},
     "output_type": "execute_result"
    }
   ],
   "source": [
    "df4.loc[320]"
   ]
  },
  {
   "cell_type": "code",
   "execution_count": 22,
   "id": "c1b82e74",
   "metadata": {},
   "outputs": [
    {
     "data": {
      "text/html": [
       "<div>\n",
       "<style scoped>\n",
       "    .dataframe tbody tr th:only-of-type {\n",
       "        vertical-align: middle;\n",
       "    }\n",
       "\n",
       "    .dataframe tbody tr th {\n",
       "        vertical-align: top;\n",
       "    }\n",
       "\n",
       "    .dataframe thead th {\n",
       "        text-align: right;\n",
       "    }\n",
       "</style>\n",
       "<table border=\"1\" class=\"dataframe\">\n",
       "  <thead>\n",
       "    <tr style=\"text-align: right;\">\n",
       "      <th></th>\n",
       "      <th>Price</th>\n",
       "      <th>Area</th>\n",
       "      <th>Location</th>\n",
       "      <th>sizeRkorBhk</th>\n",
       "      <th>Num_of_bedrooms</th>\n",
       "      <th>Num_of_bathrooms</th>\n",
       "      <th>CarParking</th>\n",
       "      <th>Gasconnection</th>\n",
       "      <th>price_per_sqft</th>\n",
       "    </tr>\n",
       "  </thead>\n",
       "  <tbody>\n",
       "    <tr>\n",
       "      <th>0</th>\n",
       "      <td>4850000</td>\n",
       "      <td>720</td>\n",
       "      <td>Kharghar</td>\n",
       "      <td>bhk</td>\n",
       "      <td>1</td>\n",
       "      <td>1</td>\n",
       "      <td>1</td>\n",
       "      <td>0</td>\n",
       "      <td>6736.111111</td>\n",
       "    </tr>\n",
       "    <tr>\n",
       "      <th>1</th>\n",
       "      <td>4500000</td>\n",
       "      <td>600</td>\n",
       "      <td>Kharghar</td>\n",
       "      <td>rk</td>\n",
       "      <td>0</td>\n",
       "      <td>1</td>\n",
       "      <td>1</td>\n",
       "      <td>0</td>\n",
       "      <td>7500.000000</td>\n",
       "    </tr>\n",
       "    <tr>\n",
       "      <th>2</th>\n",
       "      <td>6700000</td>\n",
       "      <td>650</td>\n",
       "      <td>Kharghar</td>\n",
       "      <td>rk</td>\n",
       "      <td>0</td>\n",
       "      <td>1</td>\n",
       "      <td>1</td>\n",
       "      <td>0</td>\n",
       "      <td>10307.692308</td>\n",
       "    </tr>\n",
       "    <tr>\n",
       "      <th>3</th>\n",
       "      <td>4500000</td>\n",
       "      <td>650</td>\n",
       "      <td>Kharghar</td>\n",
       "      <td>rk</td>\n",
       "      <td>0</td>\n",
       "      <td>1</td>\n",
       "      <td>1</td>\n",
       "      <td>0</td>\n",
       "      <td>6923.076923</td>\n",
       "    </tr>\n",
       "    <tr>\n",
       "      <th>4</th>\n",
       "      <td>5000000</td>\n",
       "      <td>665</td>\n",
       "      <td>Kharghar</td>\n",
       "      <td>rk</td>\n",
       "      <td>0</td>\n",
       "      <td>1</td>\n",
       "      <td>1</td>\n",
       "      <td>0</td>\n",
       "      <td>7518.796992</td>\n",
       "    </tr>\n",
       "    <tr>\n",
       "      <th>5</th>\n",
       "      <td>17000000</td>\n",
       "      <td>2000</td>\n",
       "      <td>Kharghar</td>\n",
       "      <td>bhk</td>\n",
       "      <td>4</td>\n",
       "      <td>4</td>\n",
       "      <td>1</td>\n",
       "      <td>0</td>\n",
       "      <td>8500.000000</td>\n",
       "    </tr>\n",
       "    <tr>\n",
       "      <th>6</th>\n",
       "      <td>12500000</td>\n",
       "      <td>1550</td>\n",
       "      <td>Kharghar</td>\n",
       "      <td>bhk</td>\n",
       "      <td>3</td>\n",
       "      <td>3</td>\n",
       "      <td>1</td>\n",
       "      <td>1</td>\n",
       "      <td>8064.516129</td>\n",
       "    </tr>\n",
       "  </tbody>\n",
       "</table>\n",
       "</div>"
      ],
      "text/plain": [
       "      Price  Area  Location sizeRkorBhk  Num_of_bedrooms  Num_of_bathrooms  \\\n",
       "0   4850000   720  Kharghar         bhk                1                 1   \n",
       "1   4500000   600  Kharghar          rk                0                 1   \n",
       "2   6700000   650  Kharghar          rk                0                 1   \n",
       "3   4500000   650  Kharghar          rk                0                 1   \n",
       "4   5000000   665  Kharghar          rk                0                 1   \n",
       "5  17000000  2000  Kharghar         bhk                4                 4   \n",
       "6  12500000  1550  Kharghar         bhk                3                 3   \n",
       "\n",
       "   CarParking  Gasconnection  price_per_sqft  \n",
       "0           1              0     6736.111111  \n",
       "1           1              0     7500.000000  \n",
       "2           1              0    10307.692308  \n",
       "3           1              0     6923.076923  \n",
       "4           1              0     7518.796992  \n",
       "5           1              0     8500.000000  \n",
       "6           1              1     8064.516129  "
      ]
     },
     "execution_count": 22,
     "metadata": {},
     "output_type": "execute_result"
    }
   ],
   "source": [
    "df5 = df4.copy()\n",
    "df5['price_per_sqft']=df5['Price']/df5['Area']\n",
    "df5.head(7)"
   ]
  },
  {
   "cell_type": "code",
   "execution_count": 23,
   "id": "aa1d9948",
   "metadata": {},
   "outputs": [
    {
     "data": {
      "text/plain": [
       "413"
      ]
     },
     "execution_count": 23,
     "metadata": {},
     "output_type": "execute_result"
    }
   ],
   "source": [
    "len(df5.Location.unique())"
   ]
  },
  {
   "cell_type": "code",
   "execution_count": 24,
   "id": "c7bce81a",
   "metadata": {},
   "outputs": [
    {
     "data": {
      "text/plain": [
       "Location\n",
       "Kharghar                 681\n",
       "Thane West               576\n",
       "Mira Road East           481\n",
       "Ulwe                     391\n",
       "Nala Sopara              225\n",
       "                        ... \n",
       "Ramdev Park                1\n",
       "Rawal Pada                 1\n",
       "Rustomjee Global City      1\n",
       "Sahkar Nagar               1\n",
       "worli sea face             1\n",
       "Name: Location, Length: 413, dtype: int64"
      ]
     },
     "execution_count": 24,
     "metadata": {},
     "output_type": "execute_result"
    }
   ],
   "source": [
    "df5.Location = df5.Location.apply(lambda x:x.strip())\n",
    "Location_stats = df5.groupby('Location')['Location'].agg('count').sort_values(ascending = False)\n",
    "Location_stats"
   ]
  },
  {
   "cell_type": "code",
   "execution_count": 25,
   "id": "d72cd5b1",
   "metadata": {},
   "outputs": [
    {
     "data": {
      "text/plain": [
       "312"
      ]
     },
     "execution_count": 25,
     "metadata": {},
     "output_type": "execute_result"
    }
   ],
   "source": [
    "len(Location_stats[Location_stats <= 10])"
   ]
  },
  {
   "cell_type": "code",
   "execution_count": 26,
   "id": "3f7e7385",
   "metadata": {},
   "outputs": [
    {
     "data": {
      "text/plain": [
       "Location\n",
       "Rajendra Nagar           10\n",
       "Kalamboli                10\n",
       "Prabhadevi               10\n",
       "Sector 10                10\n",
       "Mumbai Central           10\n",
       "                         ..\n",
       "Ramdev Park               1\n",
       "Rawal Pada                1\n",
       "Rustomjee Global City     1\n",
       "Sahkar Nagar              1\n",
       "worli sea face            1\n",
       "Name: Location, Length: 312, dtype: int64"
      ]
     },
     "execution_count": 26,
     "metadata": {},
     "output_type": "execute_result"
    }
   ],
   "source": [
    "Location_stats_less_than_10 = Location_stats[Location_stats <= 10]\n",
    "Location_stats_less_than_10"
   ]
  },
  {
   "cell_type": "code",
   "execution_count": 27,
   "id": "94f543fd",
   "metadata": {},
   "outputs": [
    {
     "data": {
      "text/plain": [
       "413"
      ]
     },
     "execution_count": 27,
     "metadata": {},
     "output_type": "execute_result"
    }
   ],
   "source": [
    "len(df5.Location.unique())"
   ]
  },
  {
   "cell_type": "code",
   "execution_count": 28,
   "id": "faff5b18",
   "metadata": {},
   "outputs": [
    {
     "data": {
      "text/plain": [
       "102"
      ]
     },
     "execution_count": 28,
     "metadata": {},
     "output_type": "execute_result"
    }
   ],
   "source": [
    "df5.Location = df5.Location.apply(lambda x:'other' if x in Location_stats_less_than_10 else x)\n",
    "len(df5.Location.unique())"
   ]
  },
  {
   "cell_type": "code",
   "execution_count": 29,
   "id": "e1127535",
   "metadata": {},
   "outputs": [
    {
     "data": {
      "text/html": [
       "<div>\n",
       "<style scoped>\n",
       "    .dataframe tbody tr th:only-of-type {\n",
       "        vertical-align: middle;\n",
       "    }\n",
       "\n",
       "    .dataframe tbody tr th {\n",
       "        vertical-align: top;\n",
       "    }\n",
       "\n",
       "    .dataframe thead th {\n",
       "        text-align: right;\n",
       "    }\n",
       "</style>\n",
       "<table border=\"1\" class=\"dataframe\">\n",
       "  <thead>\n",
       "    <tr style=\"text-align: right;\">\n",
       "      <th></th>\n",
       "      <th>Price</th>\n",
       "      <th>Area</th>\n",
       "      <th>Location</th>\n",
       "      <th>sizeRkorBhk</th>\n",
       "      <th>Num_of_bedrooms</th>\n",
       "      <th>Num_of_bathrooms</th>\n",
       "      <th>CarParking</th>\n",
       "      <th>Gasconnection</th>\n",
       "      <th>price_per_sqft</th>\n",
       "    </tr>\n",
       "  </thead>\n",
       "  <tbody>\n",
       "    <tr>\n",
       "      <th>0</th>\n",
       "      <td>4850000</td>\n",
       "      <td>720</td>\n",
       "      <td>Kharghar</td>\n",
       "      <td>bhk</td>\n",
       "      <td>1</td>\n",
       "      <td>1</td>\n",
       "      <td>1</td>\n",
       "      <td>0</td>\n",
       "      <td>6736.111111</td>\n",
       "    </tr>\n",
       "    <tr>\n",
       "      <th>1</th>\n",
       "      <td>4500000</td>\n",
       "      <td>600</td>\n",
       "      <td>Kharghar</td>\n",
       "      <td>rk</td>\n",
       "      <td>0</td>\n",
       "      <td>1</td>\n",
       "      <td>1</td>\n",
       "      <td>0</td>\n",
       "      <td>7500.000000</td>\n",
       "    </tr>\n",
       "    <tr>\n",
       "      <th>2</th>\n",
       "      <td>6700000</td>\n",
       "      <td>650</td>\n",
       "      <td>Kharghar</td>\n",
       "      <td>rk</td>\n",
       "      <td>0</td>\n",
       "      <td>1</td>\n",
       "      <td>1</td>\n",
       "      <td>0</td>\n",
       "      <td>10307.692308</td>\n",
       "    </tr>\n",
       "    <tr>\n",
       "      <th>3</th>\n",
       "      <td>4500000</td>\n",
       "      <td>650</td>\n",
       "      <td>Kharghar</td>\n",
       "      <td>rk</td>\n",
       "      <td>0</td>\n",
       "      <td>1</td>\n",
       "      <td>1</td>\n",
       "      <td>0</td>\n",
       "      <td>6923.076923</td>\n",
       "    </tr>\n",
       "    <tr>\n",
       "      <th>4</th>\n",
       "      <td>5000000</td>\n",
       "      <td>665</td>\n",
       "      <td>Kharghar</td>\n",
       "      <td>rk</td>\n",
       "      <td>0</td>\n",
       "      <td>1</td>\n",
       "      <td>1</td>\n",
       "      <td>0</td>\n",
       "      <td>7518.796992</td>\n",
       "    </tr>\n",
       "    <tr>\n",
       "      <th>5</th>\n",
       "      <td>17000000</td>\n",
       "      <td>2000</td>\n",
       "      <td>Kharghar</td>\n",
       "      <td>bhk</td>\n",
       "      <td>4</td>\n",
       "      <td>4</td>\n",
       "      <td>1</td>\n",
       "      <td>0</td>\n",
       "      <td>8500.000000</td>\n",
       "    </tr>\n",
       "    <tr>\n",
       "      <th>6</th>\n",
       "      <td>12500000</td>\n",
       "      <td>1550</td>\n",
       "      <td>Kharghar</td>\n",
       "      <td>bhk</td>\n",
       "      <td>3</td>\n",
       "      <td>3</td>\n",
       "      <td>1</td>\n",
       "      <td>1</td>\n",
       "      <td>8064.516129</td>\n",
       "    </tr>\n",
       "    <tr>\n",
       "      <th>7</th>\n",
       "      <td>10500000</td>\n",
       "      <td>1370</td>\n",
       "      <td>other</td>\n",
       "      <td>bhk</td>\n",
       "      <td>3</td>\n",
       "      <td>3</td>\n",
       "      <td>1</td>\n",
       "      <td>0</td>\n",
       "      <td>7664.233577</td>\n",
       "    </tr>\n",
       "    <tr>\n",
       "      <th>8</th>\n",
       "      <td>10500000</td>\n",
       "      <td>1356</td>\n",
       "      <td>Kharghar</td>\n",
       "      <td>bhk</td>\n",
       "      <td>3</td>\n",
       "      <td>3</td>\n",
       "      <td>1</td>\n",
       "      <td>0</td>\n",
       "      <td>7743.362832</td>\n",
       "    </tr>\n",
       "    <tr>\n",
       "      <th>9</th>\n",
       "      <td>15000000</td>\n",
       "      <td>1680</td>\n",
       "      <td>Kharghar</td>\n",
       "      <td>bhk</td>\n",
       "      <td>3</td>\n",
       "      <td>3</td>\n",
       "      <td>1</td>\n",
       "      <td>1</td>\n",
       "      <td>8928.571429</td>\n",
       "    </tr>\n",
       "  </tbody>\n",
       "</table>\n",
       "</div>"
      ],
      "text/plain": [
       "      Price  Area  Location sizeRkorBhk  Num_of_bedrooms  Num_of_bathrooms  \\\n",
       "0   4850000   720  Kharghar         bhk                1                 1   \n",
       "1   4500000   600  Kharghar          rk                0                 1   \n",
       "2   6700000   650  Kharghar          rk                0                 1   \n",
       "3   4500000   650  Kharghar          rk                0                 1   \n",
       "4   5000000   665  Kharghar          rk                0                 1   \n",
       "5  17000000  2000  Kharghar         bhk                4                 4   \n",
       "6  12500000  1550  Kharghar         bhk                3                 3   \n",
       "7  10500000  1370     other         bhk                3                 3   \n",
       "8  10500000  1356  Kharghar         bhk                3                 3   \n",
       "9  15000000  1680  Kharghar         bhk                3                 3   \n",
       "\n",
       "   CarParking  Gasconnection  price_per_sqft  \n",
       "0           1              0     6736.111111  \n",
       "1           1              0     7500.000000  \n",
       "2           1              0    10307.692308  \n",
       "3           1              0     6923.076923  \n",
       "4           1              0     7518.796992  \n",
       "5           1              0     8500.000000  \n",
       "6           1              1     8064.516129  \n",
       "7           1              0     7664.233577  \n",
       "8           1              0     7743.362832  \n",
       "9           1              1     8928.571429  "
      ]
     },
     "execution_count": 29,
     "metadata": {},
     "output_type": "execute_result"
    }
   ],
   "source": [
    "df5.head(10)"
   ]
  },
  {
   "cell_type": "code",
   "execution_count": 30,
   "id": "4a475333",
   "metadata": {},
   "outputs": [
    {
     "data": {
      "text/html": [
       "<div>\n",
       "<style scoped>\n",
       "    .dataframe tbody tr th:only-of-type {\n",
       "        vertical-align: middle;\n",
       "    }\n",
       "\n",
       "    .dataframe tbody tr th {\n",
       "        vertical-align: top;\n",
       "    }\n",
       "\n",
       "    .dataframe thead th {\n",
       "        text-align: right;\n",
       "    }\n",
       "</style>\n",
       "<table border=\"1\" class=\"dataframe\">\n",
       "  <thead>\n",
       "    <tr style=\"text-align: right;\">\n",
       "      <th></th>\n",
       "      <th>Price</th>\n",
       "      <th>Area</th>\n",
       "      <th>Location</th>\n",
       "      <th>sizeRkorBhk</th>\n",
       "      <th>Num_of_bedrooms</th>\n",
       "      <th>Num_of_bathrooms</th>\n",
       "      <th>CarParking</th>\n",
       "      <th>Gasconnection</th>\n",
       "      <th>price_per_sqft</th>\n",
       "    </tr>\n",
       "  </thead>\n",
       "  <tbody>\n",
       "    <tr>\n",
       "      <th>2000</th>\n",
       "      <td>260000000</td>\n",
       "      <td>1165</td>\n",
       "      <td>other</td>\n",
       "      <td>bhk</td>\n",
       "      <td>4</td>\n",
       "      <td>4</td>\n",
       "      <td>1</td>\n",
       "      <td>1</td>\n",
       "      <td>223175.965665</td>\n",
       "    </tr>\n",
       "    <tr>\n",
       "      <th>2065</th>\n",
       "      <td>260000000</td>\n",
       "      <td>1165</td>\n",
       "      <td>other</td>\n",
       "      <td>bhk</td>\n",
       "      <td>4</td>\n",
       "      <td>4</td>\n",
       "      <td>1</td>\n",
       "      <td>1</td>\n",
       "      <td>223175.965665</td>\n",
       "    </tr>\n",
       "    <tr>\n",
       "      <th>3624</th>\n",
       "      <td>3500000</td>\n",
       "      <td>586</td>\n",
       "      <td>Andheri West</td>\n",
       "      <td>rk</td>\n",
       "      <td>2</td>\n",
       "      <td>2</td>\n",
       "      <td>0</td>\n",
       "      <td>0</td>\n",
       "      <td>5972.696246</td>\n",
       "    </tr>\n",
       "    <tr>\n",
       "      <th>5406</th>\n",
       "      <td>5700000</td>\n",
       "      <td>901</td>\n",
       "      <td>Mira Road East</td>\n",
       "      <td>bhk</td>\n",
       "      <td>4</td>\n",
       "      <td>4</td>\n",
       "      <td>1</td>\n",
       "      <td>1</td>\n",
       "      <td>6326.304107</td>\n",
       "    </tr>\n",
       "  </tbody>\n",
       "</table>\n",
       "</div>"
      ],
      "text/plain": [
       "          Price  Area        Location sizeRkorBhk  Num_of_bedrooms  \\\n",
       "2000  260000000  1165           other         bhk                4   \n",
       "2065  260000000  1165           other         bhk                4   \n",
       "3624    3500000   586    Andheri West          rk                2   \n",
       "5406    5700000   901  Mira Road East         bhk                4   \n",
       "\n",
       "      Num_of_bathrooms  CarParking  Gasconnection  price_per_sqft  \n",
       "2000                 4           1              1   223175.965665  \n",
       "2065                 4           1              1   223175.965665  \n",
       "3624                 2           0              0     5972.696246  \n",
       "5406                 4           1              1     6326.304107  "
      ]
     },
     "execution_count": 30,
     "metadata": {},
     "output_type": "execute_result"
    }
   ],
   "source": [
    "df5[df5.Area/df5.Num_of_bedrooms < 300].head()"
   ]
  },
  {
   "cell_type": "code",
   "execution_count": 31,
   "id": "e172a3c0",
   "metadata": {},
   "outputs": [
    {
     "data": {
      "text/plain": [
       "(7717, 9)"
      ]
     },
     "execution_count": 31,
     "metadata": {},
     "output_type": "execute_result"
    }
   ],
   "source": [
    "df5.shape"
   ]
  },
  {
   "cell_type": "code",
   "execution_count": 32,
   "id": "2d24022f",
   "metadata": {},
   "outputs": [
    {
     "data": {
      "text/plain": [
       "(7713, 9)"
      ]
     },
     "execution_count": 32,
     "metadata": {},
     "output_type": "execute_result"
    }
   ],
   "source": [
    "df6 = df5[~(df5.Area / df5.Num_of_bedrooms < 300)]\n",
    "df6.shape"
   ]
  },
  {
   "cell_type": "code",
   "execution_count": 33,
   "id": "59734f50",
   "metadata": {},
   "outputs": [
    {
     "data": {
      "text/plain": [
       "count      7713.000000\n",
       "mean      16120.418053\n",
       "std       19298.449729\n",
       "min         460.526316\n",
       "25%        6461.538462\n",
       "50%       10410.094637\n",
       "75%       18723.994452\n",
       "max      400000.000000\n",
       "Name: price_per_sqft, dtype: float64"
      ]
     },
     "execution_count": 33,
     "metadata": {},
     "output_type": "execute_result"
    }
   ],
   "source": [
    "df6.price_per_sqft.describe()"
   ]
  },
  {
   "cell_type": "code",
   "execution_count": 34,
   "id": "ba6b88c1",
   "metadata": {},
   "outputs": [
    {
     "data": {
      "text/plain": [
       "(6785, 9)"
      ]
     },
     "execution_count": 34,
     "metadata": {},
     "output_type": "execute_result"
    }
   ],
   "source": [
    "def remove_pps_outliers(df):\n",
    "    df_out = pd.DataFrame()\n",
    "    for key,subdf in df.groupby('Location'):\n",
    "        m = np.mean(subdf.price_per_sqft)\n",
    "        st = np.std(subdf.price_per_sqft)\n",
    "        reduced_df = subdf[(subdf.price_per_sqft > (m-st))&(subdf.price_per_sqft <= (m+st))]\n",
    "        df_out = pd.concat([df_out,reduced_df],ignore_index = True)\n",
    "    return df_out\n",
    "\n",
    "df7 = remove_pps_outliers(df6)\n",
    "df7.shape"
   ]
  },
  {
   "cell_type": "code",
   "execution_count": 35,
   "id": "5bc7c5f4",
   "metadata": {},
   "outputs": [
    {
     "data": {
      "image/png": "[encoded data removed]",
      "text/plain": [
       "<Figure size 1080x720 with 1 Axes>"
      ]
     },
     "metadata": {
      "needs_background": "light"
     },
     "output_type": "display_data"
    }
   ],
   "source": [
    "def plot_scatter_chart(df,Location):\n",
    "    bhk2 = df[(df.Location == Location)&(df.Num_of_bedrooms == 2)]\n",
    "    bhk3 = df[(df.Location == Location)&(df.Num_of_bedrooms == 3)]\n",
    "    matplotlib.rcParams['figure.figsize']=(15,10)\n",
    "    plt.scatter(bhk2.Area,bhk2.Price,color='blue',label='2BHK',s=50)\n",
    "    plt.scatter(bhk3.Area,bhk3.Price,color='green',label='3BHK',s=50)\n",
    "    plt.xlabel(\"Total Square Feet Area\")\n",
    "    plt.ylabel(\"Price per Square Feet\")\n",
    "    plt.title(Location)\n",
    "    plt.legend()\n",
    "    \n",
    "plot_scatter_chart(df7,\"Kharghar\")    "
   ]
  },
  {
   "cell_type": "code",
   "execution_count": 36,
   "id": "04da05e7",
   "metadata": {},
   "outputs": [
    {
     "data": {
      "text/plain": [
       "(4509, 9)"
      ]
     },
     "execution_count": 36,
     "metadata": {},
     "output_type": "execute_result"
    }
   ],
   "source": [
    "def remove_bhk_outliers(df):\n",
    "    exclude_indices = np.array([])\n",
    "    for Location,Location_df in df.groupby('Location'):\n",
    "        Num_of_bedrooms_stats = {}\n",
    "        for Num_of_bedrooms,Num_of_bedrooms_df in Location_df.groupby('Num_of_bedrooms'):\n",
    "            Num_of_bedrooms_stats[Num_of_bedrooms]={\n",
    "                'mean':np.mean(Num_of_bedrooms_df.price_per_sqft),\n",
    "                'std':np.std(Num_of_bedrooms_df.price_per_sqft),\n",
    "                'count':Num_of_bedrooms_df.shape[0]\n",
    "            }\n",
    "    for Num_of_bedrooms,Num_of_bedrooms_df in df.groupby('Num_of_bedrooms'):\n",
    "        stats = Num_of_bedrooms_stats.get(Num_of_bedrooms-1)\n",
    "        if stats and stats['count']>5:\n",
    "            exclude_indices = np.append(exclude_indices,Num_of_bedrooms_df[\n",
    "                Num_of_bedrooms_df.price_per_sqft < (stats['mean'])].index.values)\n",
    "    return df.drop(exclude_indices,axis='index')          \n",
    "        \n",
    "df8 = remove_bhk_outliers(df7)\n",
    "df8.shape"
   ]
  },
  {
   "cell_type": "code",
   "execution_count": 37,
   "id": "a94653f0",
   "metadata": {},
   "outputs": [
    {
     "data": {
      "image/png": "[encoded data removed]",
      "text/plain": [
       "<Figure size 1080x720 with 1 Axes>"
      ]
     },
     "metadata": {
      "needs_background": "light"
     },
     "output_type": "display_data"
    }
   ],
   "source": [
    "plot_scatter_chart(df8,\"Kharghar\")"
   ]
  },
  {
   "cell_type": "code",
   "execution_count": 38,
   "id": "5b6f665c",
   "metadata": {},
   "outputs": [
    {
     "data": {
      "text/plain": [
       "Text(0, 0.5, 'Count')"
      ]
     },
     "execution_count": 38,
     "metadata": {},
     "output_type": "execute_result"
    },
    {
     "data": {
      "image/png": "[encoded data removed]",
      "text/plain": [
       "<Figure size 1440x720 with 1 Axes>"
      ]
     },
     "metadata": {
      "needs_background": "light"
     },
     "output_type": "display_data"
    }
   ],
   "source": [
    "import matplotlib\n",
    "matplotlib.rcParams[\"figure.figsize\"]=(20,10)\n",
    "plt.hist(df8.price_per_sqft,rwidth=0.8)\n",
    "plt.xlabel(\"Price Per Square Feet\")\n",
    "plt.ylabel(\"Count\")"
   ]
  },
  {
   "cell_type": "code",
   "execution_count": 39,
   "id": "7c6358b3",
   "metadata": {},
   "outputs": [
    {
     "data": {
      "text/html": [
       "<div>\n",
       "<style scoped>\n",
       "    .dataframe tbody tr th:only-of-type {\n",
       "        vertical-align: middle;\n",
       "    }\n",
       "\n",
       "    .dataframe tbody tr th {\n",
       "        vertical-align: top;\n",
       "    }\n",
       "\n",
       "    .dataframe thead th {\n",
       "        text-align: right;\n",
       "    }\n",
       "</style>\n",
       "<table border=\"1\" class=\"dataframe\">\n",
       "  <thead>\n",
       "    <tr style=\"text-align: right;\">\n",
       "      <th></th>\n",
       "      <th>Price</th>\n",
       "      <th>Area</th>\n",
       "      <th>Location</th>\n",
       "      <th>sizeRkorBhk</th>\n",
       "      <th>Num_of_bedrooms</th>\n",
       "      <th>Num_of_bathrooms</th>\n",
       "      <th>CarParking</th>\n",
       "      <th>Gasconnection</th>\n",
       "      <th>price_per_sqft</th>\n",
       "    </tr>\n",
       "  </thead>\n",
       "  <tbody>\n",
       "    <tr>\n",
       "      <th>0</th>\n",
       "      <td>6200000</td>\n",
       "      <td>400</td>\n",
       "      <td>Airoli</td>\n",
       "      <td>rk</td>\n",
       "      <td>0</td>\n",
       "      <td>1</td>\n",
       "      <td>1</td>\n",
       "      <td>0</td>\n",
       "      <td>15500.000000</td>\n",
       "    </tr>\n",
       "    <tr>\n",
       "      <th>2</th>\n",
       "      <td>14900000</td>\n",
       "      <td>1245</td>\n",
       "      <td>Airoli</td>\n",
       "      <td>bhk</td>\n",
       "      <td>2</td>\n",
       "      <td>2</td>\n",
       "      <td>1</td>\n",
       "      <td>1</td>\n",
       "      <td>11967.871486</td>\n",
       "    </tr>\n",
       "    <tr>\n",
       "      <th>3</th>\n",
       "      <td>14000000</td>\n",
       "      <td>1183</td>\n",
       "      <td>Airoli</td>\n",
       "      <td>bhk</td>\n",
       "      <td>2</td>\n",
       "      <td>2</td>\n",
       "      <td>1</td>\n",
       "      <td>0</td>\n",
       "      <td>11834.319527</td>\n",
       "    </tr>\n",
       "    <tr>\n",
       "      <th>5</th>\n",
       "      <td>6400000</td>\n",
       "      <td>495</td>\n",
       "      <td>Airoli</td>\n",
       "      <td>rk</td>\n",
       "      <td>0</td>\n",
       "      <td>1</td>\n",
       "      <td>0</td>\n",
       "      <td>0</td>\n",
       "      <td>12929.292929</td>\n",
       "    </tr>\n",
       "    <tr>\n",
       "      <th>6</th>\n",
       "      <td>3800000</td>\n",
       "      <td>495</td>\n",
       "      <td>Airoli</td>\n",
       "      <td>rk</td>\n",
       "      <td>0</td>\n",
       "      <td>1</td>\n",
       "      <td>0</td>\n",
       "      <td>0</td>\n",
       "      <td>7676.767677</td>\n",
       "    </tr>\n",
       "  </tbody>\n",
       "</table>\n",
       "</div>"
      ],
      "text/plain": [
       "      Price  Area Location sizeRkorBhk  Num_of_bedrooms  Num_of_bathrooms  \\\n",
       "0   6200000   400   Airoli          rk                0                 1   \n",
       "2  14900000  1245   Airoli         bhk                2                 2   \n",
       "3  14000000  1183   Airoli         bhk                2                 2   \n",
       "5   6400000   495   Airoli          rk                0                 1   \n",
       "6   3800000   495   Airoli          rk                0                 1   \n",
       "\n",
       "   CarParking  Gasconnection  price_per_sqft  \n",
       "0           1              0    15500.000000  \n",
       "2           1              1    11967.871486  \n",
       "3           1              0    11834.319527  \n",
       "5           0              0    12929.292929  \n",
       "6           0              0     7676.767677  "
      ]
     },
     "execution_count": 39,
     "metadata": {},
     "output_type": "execute_result"
    }
   ],
   "source": [
    "df8.head(5)"
   ]
  },
  {
   "cell_type": "code",
   "execution_count": 40,
   "id": "6717ec6a",
   "metadata": {},
   "outputs": [
    {
     "data": {
      "text/plain": [
       "array([1, 0], dtype=int64)"
      ]
     },
     "execution_count": 40,
     "metadata": {},
     "output_type": "execute_result"
    }
   ],
   "source": [
    "df8['CarParking'].unique()"
   ]
  },
  {
   "cell_type": "code",
   "execution_count": 41,
   "id": "230918d0",
   "metadata": {},
   "outputs": [
    {
     "data": {
      "text/plain": [
       "array([1, 2, 3, 4, 5, 6, 7], dtype=int64)"
      ]
     },
     "execution_count": 41,
     "metadata": {},
     "output_type": "execute_result"
    }
   ],
   "source": [
    "df8['Num_of_bathrooms'].unique()"
   ]
  },
  {
   "cell_type": "code",
   "execution_count": 42,
   "id": "ff64e7d0",
   "metadata": {},
   "outputs": [
    {
     "data": {
      "text/plain": [
       "array([0, 1], dtype=int64)"
      ]
     },
     "execution_count": 42,
     "metadata": {},
     "output_type": "execute_result"
    }
   ],
   "source": [
    "df8['Gasconnection'].unique()"
   ]
  },
  {
   "cell_type": "code",
   "execution_count": 43,
   "id": "c94aabb8",
   "metadata": {},
   "outputs": [
    {
     "data": {
      "text/html": [
       "<div>\n",
       "<style scoped>\n",
       "    .dataframe tbody tr th:only-of-type {\n",
       "        vertical-align: middle;\n",
       "    }\n",
       "\n",
       "    .dataframe tbody tr th {\n",
       "        vertical-align: top;\n",
       "    }\n",
       "\n",
       "    .dataframe thead th {\n",
       "        text-align: right;\n",
       "    }\n",
       "</style>\n",
       "<table border=\"1\" class=\"dataframe\">\n",
       "  <thead>\n",
       "    <tr style=\"text-align: right;\">\n",
       "      <th></th>\n",
       "      <th>Price</th>\n",
       "      <th>Area</th>\n",
       "      <th>Location</th>\n",
       "      <th>sizeRkorBhk</th>\n",
       "      <th>Num_of_bedrooms</th>\n",
       "      <th>Num_of_bathrooms</th>\n",
       "      <th>CarParking</th>\n",
       "      <th>Gasconnection</th>\n",
       "      <th>price_per_sqft</th>\n",
       "    </tr>\n",
       "  </thead>\n",
       "  <tbody>\n",
       "    <tr>\n",
       "      <th>4624</th>\n",
       "      <td>90000000</td>\n",
       "      <td>5642</td>\n",
       "      <td>Sion</td>\n",
       "      <td>bhk</td>\n",
       "      <td>6</td>\n",
       "      <td>6</td>\n",
       "      <td>1</td>\n",
       "      <td>1</td>\n",
       "      <td>15951.790145</td>\n",
       "    </tr>\n",
       "    <tr>\n",
       "      <th>4625</th>\n",
       "      <td>90000000</td>\n",
       "      <td>5642</td>\n",
       "      <td>Sion</td>\n",
       "      <td>bhk</td>\n",
       "      <td>6</td>\n",
       "      <td>6</td>\n",
       "      <td>1</td>\n",
       "      <td>1</td>\n",
       "      <td>15951.790145</td>\n",
       "    </tr>\n",
       "    <tr>\n",
       "      <th>6445</th>\n",
       "      <td>55000000</td>\n",
       "      <td>2500</td>\n",
       "      <td>other</td>\n",
       "      <td>bhk</td>\n",
       "      <td>7</td>\n",
       "      <td>7</td>\n",
       "      <td>1</td>\n",
       "      <td>1</td>\n",
       "      <td>22000.000000</td>\n",
       "    </tr>\n",
       "  </tbody>\n",
       "</table>\n",
       "</div>"
      ],
      "text/plain": [
       "         Price  Area Location sizeRkorBhk  Num_of_bedrooms  Num_of_bathrooms  \\\n",
       "4624  90000000  5642     Sion         bhk                6                 6   \n",
       "4625  90000000  5642     Sion         bhk                6                 6   \n",
       "6445  55000000  2500    other         bhk                7                 7   \n",
       "\n",
       "      CarParking  Gasconnection  price_per_sqft  \n",
       "4624           1              1    15951.790145  \n",
       "4625           1              1    15951.790145  \n",
       "6445           1              1    22000.000000  "
      ]
     },
     "execution_count": 43,
     "metadata": {},
     "output_type": "execute_result"
    }
   ],
   "source": [
    "df8[df8.Num_of_bathrooms > 5]"
   ]
  },
  {
   "cell_type": "code",
   "execution_count": 44,
   "id": "fe0c2a4e",
   "metadata": {},
   "outputs": [
    {
     "data": {
      "text/plain": [
       "Text(0, 0.5, 'Count')"
      ]
     },
     "execution_count": 44,
     "metadata": {},
     "output_type": "execute_result"
    },
    {
     "data": {
      "image/png": "[encoded data removed]",
      "text/plain": [
       "<Figure size 1440x720 with 1 Axes>"
      ]
     },
     "metadata": {
      "needs_background": "light"
     },
     "output_type": "display_data"
    }
   ],
   "source": [
    "plt.hist(df8.Num_of_bathrooms,rwidth=0.8)\n",
    "plt.xlabel(\"Number of bathrooms\")\n",
    "plt.ylabel(\"Count\")"
   ]
  },
  {
   "cell_type": "code",
   "execution_count": 45,
   "id": "1a1a633d",
   "metadata": {},
   "outputs": [
    {
     "data": {
      "text/plain": [
       "array([ 400, 1245, 1183,  495, 1050,  600,  650,  780,  640,  660,  666,\n",
       "        700,  680,  675,  527,  781,  730,  690,  466,  595, 1010,  900,\n",
       "        625,  725,  827,  634,  728,  550,  630,  644,  709,  766,  797,\n",
       "       1100, 1000, 1480, 3025, 1120, 1450, 1114, 1260, 2016,  655,  922,\n",
       "       1020,  915,  620,  950, 1080, 1356,  750, 1150, 1300,  850,  300,\n",
       "        859,  969,  670,  890, 1113,  742, 1124,  878,  678,  716,  902,\n",
       "        560, 1065,  426,  802,  864,  720, 1200, 3300,  997, 1950, 1361,\n",
       "        390,  723, 2590, 1800, 3080, 3780, 1875, 1470, 1600, 1400,  800,\n",
       "       1550, 1850, 1166,  788,  790, 1193,  707,  944,  923,  420, 1648,\n",
       "       1705, 1418, 1210, 2500, 2550,  930, 1680, 2400,  667, 2250, 1350,\n",
       "       2525, 1250, 1003, 2780, 2260, 1264,  774,  713,  708,  926,  934,\n",
       "        960,  810, 1357, 1344, 2050, 1509, 4650,  768,  430,  500,  441,\n",
       "        710,  820,  510,  703,  841,  873,  762,  615,  535,  798,  580,\n",
       "        505,  672,  450, 1141, 1305,  425,  838, 1900, 1750, 1824, 1409,\n",
       "       2255, 1182, 1335, 1267,  543,  565,  555, 1815, 3975, 1585, 1475,\n",
       "        575,  360,  645,  945,  715,  365,  568,  829,  880,  657,  570,\n",
       "        740,  605,  610,  785,  840,  731,  585,  714,  465,  990, 1105,\n",
       "       1840,  907, 1189, 1500, 1560,  845,  918, 1013,  372, 1785, 2030,\n",
       "        816,  540,  867,  899,  756,  325,  635,  697,  935,  515, 1056,\n",
       "        760,  592,  446,  975,  590,  732,  775,  770,  525,  980,  380,\n",
       "        435, 1016,  989,  440,  757,  632, 1060,  695,  617, 1285,  957,\n",
       "       2800, 1270,  662, 1278,  499,  696,  503,  473,  506,  698, 1090,\n",
       "        649,  783,  623,  561,  576,  751,  863,  547,  447,  699,  557,\n",
       "        881,  776,  825, 1073,  566, 1069, 2730, 1230,  354, 1196,  721,\n",
       "        685,  855,  492,  793,  815,  485, 1026,  927,  410,  490,  375,\n",
       "        791,  809,  408,  454,  834,  350, 1098,  870, 1197,  729,  665,\n",
       "        637,  530,  445,  686,  518,  480,  704,  688,  735, 1365, 1140,\n",
       "        925,  676, 1527, 1188, 1766, 1558, 2014, 1053, 1054, 1040,  996,\n",
       "       1238, 1695, 1579, 2153, 1872, 1717, 2195, 3230, 1012,  340, 1415,\n",
       "       1202,  987, 1404, 1620, 1675, 1618,  545,  974,  526, 2015, 2100,\n",
       "       1190, 1456, 1660, 1035, 1690,  659, 1491, 2085,  544, 1296, 1638,\n",
       "       1465,  910, 1656, 3888, 3585, 1650,  546, 1505, 1485, 1112,  894,\n",
       "       1710,  885, 1088, 1399,  830, 1435, 1634, 3049,  711,  488, 1145,\n",
       "       1051,  647,  478,  330, 1127,  755,  413,  455,  663,  417,  596,\n",
       "        759,  920,  865,  421,  577,  607,  868,  999,  860,  619,  887,\n",
       "        638,  653, 1095, 1110, 1168, 1103, 1810, 1170, 1014,  764, 2415,\n",
       "       1890, 1786, 1920, 2450, 1165,  745, 1667, 1530, 1137, 5320,  995,\n",
       "       1655, 1325,  479, 2095, 1627,  534,  553,  564,  744,  393, 1052,\n",
       "        765, 1962, 1440, 1472, 1129,  839,  562, 1561,  784, 1242,  888,\n",
       "       1555,  355,  335, 1737,  520,  893,  828,  484, 1055, 1115,  929,\n",
       "        656,  753,  752,  652,  943,  677,  749,  654,  395,  984, 2600,\n",
       "       3800, 2470,  895,  646,  636, 1590,  310,  305,  852, 1130,  612,\n",
       "       2355, 1185,  914,  641, 1215, 1096, 1234,  674,  673, 1075,  528,\n",
       "        460, 1077,  470,  396,  459, 2880, 1388, 1257, 1175,  594, 1672,\n",
       "       1457, 1280,  608, 1290,  994, 1155,  551, 1466,  411, 1164,  356,\n",
       "       2580, 1072, 1023,  552, 1160,  874, 1310,  970, 1601, 1101,  872,\n",
       "        826,  548,  823,  200,  220,  225, 1135, 1125,  457,  599,  669,\n",
       "        771,  769,  978,  734,  733, 1804, 1068,  727,  614,  661,  245,\n",
       "        767, 2963,  693,  875,  254,  965,  981,  681, 1390,  384,  786,\n",
       "        972,  571,  773,  508,  532,  542,  504,  541,  369,  538,  739,\n",
       "        381,  424,  629,  621,  584,  401,  399,  597,  349,  583,  633,\n",
       "        539,  789,  705, 1525, 1235,  398, 1460, 1180,  320, 1412,  558,\n",
       "        345,  985,  627,  613,  581,  593,  799,  598, 1960, 1654,  664,\n",
       "        963, 1306, 1118, 1309, 1740, 1017,  821,  453,  556,  299,  252,\n",
       "        578,  415,  846,  572,  582, 2130, 2120,  569,  387,  967,  589,\n",
       "        835,  832,  687,  837,  682,  993,  606,  428,  394,  385,  493,\n",
       "        812,  858, 1307, 1005, 1320, 2670, 1177, 1043, 2605, 1543, 2604,\n",
       "       1835,  940, 1836, 2110, 1445, 1502, 1094,  928,  772, 1613, 1070,\n",
       "       1198, 1045,  602,  916, 3465,  851,  747, 1144, 3500, 1205, 1425,\n",
       "       1030, 5642,  961,  738,  671, 1063, 1360,  516,  507,  275, 5245,\n",
       "        509, 1733,  936,  831,  883,  879,  919,  847,  683,  588,  239,\n",
       "        283,  352,  958,  419,  746,  886, 1046, 1158, 1214, 1639, 1625,\n",
       "        876,  486, 1044, 1461, 1083, 2000,  811,  848, 1730,  761,  324,\n",
       "        472, 1091,  519,  962,  616,  684, 1167,  905,  901,  706,  808,\n",
       "       1153,  991,  461,  639,  618,  609,  573,  758,  689,  648,  679,\n",
       "       1700, 1156, 1580, 1548, 1157,  778,  748,  514,  353, 2150, 1109,\n",
       "       1212, 2360, 1728, 2660,  805,  853,  412,  536,  579,  843,  737,\n",
       "        418,  338,  362,  374,  348,  370, 1701, 2376, 2061, 1431, 1735,\n",
       "       1086, 2005,  906, 2200, 1371, 2826, 2904, 3600, 2285, 3150, 3582,\n",
       "       1092, 1038,  529, 1067, 1237, 2350, 1413,  574, 1345, 1225,  422,\n",
       "       3410,  702, 1706,  603,  475,  806,  448,  971,  342, 1265,  383,\n",
       "        642, 4200, 3200, 1220, 3168,  427,  482, 1171, 2453,  833,  405,\n",
       "       1102, 1495, 3313, 2436, 1195,  882,  955, 2475, 1820,  513,  611,\n",
       "        432, 3000], dtype=int64)"
      ]
     },
     "execution_count": 45,
     "metadata": {},
     "output_type": "execute_result"
    }
   ],
   "source": [
    "df8['Area'].unique()"
   ]
  },
  {
   "cell_type": "code",
   "execution_count": 46,
   "id": "70fd4ef0",
   "metadata": {},
   "outputs": [
    {
     "data": {
      "text/html": [
       "<div>\n",
       "<style scoped>\n",
       "    .dataframe tbody tr th:only-of-type {\n",
       "        vertical-align: middle;\n",
       "    }\n",
       "\n",
       "    .dataframe tbody tr th {\n",
       "        vertical-align: top;\n",
       "    }\n",
       "\n",
       "    .dataframe thead th {\n",
       "        text-align: right;\n",
       "    }\n",
       "</style>\n",
       "<table border=\"1\" class=\"dataframe\">\n",
       "  <thead>\n",
       "    <tr style=\"text-align: right;\">\n",
       "      <th></th>\n",
       "      <th>Price</th>\n",
       "      <th>Area</th>\n",
       "      <th>Location</th>\n",
       "      <th>sizeRkorBhk</th>\n",
       "      <th>Num_of_bedrooms</th>\n",
       "      <th>Num_of_bathrooms</th>\n",
       "      <th>CarParking</th>\n",
       "      <th>Gasconnection</th>\n",
       "      <th>price_per_sqft</th>\n",
       "    </tr>\n",
       "  </thead>\n",
       "  <tbody>\n",
       "    <tr>\n",
       "      <th>1235</th>\n",
       "      <td>8500000</td>\n",
       "      <td>676</td>\n",
       "      <td>Ghatkopar</td>\n",
       "      <td>rk</td>\n",
       "      <td>0</td>\n",
       "      <td>3</td>\n",
       "      <td>1</td>\n",
       "      <td>0</td>\n",
       "      <td>12573.964497</td>\n",
       "    </tr>\n",
       "  </tbody>\n",
       "</table>\n",
       "</div>"
      ],
      "text/plain": [
       "        Price  Area   Location sizeRkorBhk  Num_of_bedrooms  Num_of_bathrooms  \\\n",
       "1235  8500000   676  Ghatkopar          rk                0                 3   \n",
       "\n",
       "      CarParking  Gasconnection  price_per_sqft  \n",
       "1235           1              0    12573.964497  "
      ]
     },
     "execution_count": 46,
     "metadata": {},
     "output_type": "execute_result"
    }
   ],
   "source": [
    "df8[df8.Num_of_bathrooms > df8.Num_of_bedrooms+2]"
   ]
  },
  {
   "cell_type": "code",
   "execution_count": 47,
   "id": "eb51670c",
   "metadata": {},
   "outputs": [
    {
     "data": {
      "text/plain": [
       "(4508, 9)"
      ]
     },
     "execution_count": 47,
     "metadata": {},
     "output_type": "execute_result"
    }
   ],
   "source": [
    "#Remove bathrooms outlier \n",
    "df9 = df8[df8.Num_of_bathrooms < df8.Num_of_bedrooms+2]\n",
    "df9.shape"
   ]
  },
  {
   "cell_type": "code",
   "execution_count": 48,
   "id": "90e16ecd",
   "metadata": {},
   "outputs": [
    {
     "data": {
      "text/html": [
       "<div>\n",
       "<style scoped>\n",
       "    .dataframe tbody tr th:only-of-type {\n",
       "        vertical-align: middle;\n",
       "    }\n",
       "\n",
       "    .dataframe tbody tr th {\n",
       "        vertical-align: top;\n",
       "    }\n",
       "\n",
       "    .dataframe thead th {\n",
       "        text-align: right;\n",
       "    }\n",
       "</style>\n",
       "<table border=\"1\" class=\"dataframe\">\n",
       "  <thead>\n",
       "    <tr style=\"text-align: right;\">\n",
       "      <th></th>\n",
       "      <th>Price</th>\n",
       "      <th>Area</th>\n",
       "      <th>Location</th>\n",
       "      <th>sizeRkorBhk</th>\n",
       "      <th>Num_of_bedrooms</th>\n",
       "      <th>Num_of_bathrooms</th>\n",
       "      <th>CarParking</th>\n",
       "      <th>Gasconnection</th>\n",
       "    </tr>\n",
       "  </thead>\n",
       "  <tbody>\n",
       "    <tr>\n",
       "      <th>0</th>\n",
       "      <td>6200000</td>\n",
       "      <td>400</td>\n",
       "      <td>Airoli</td>\n",
       "      <td>rk</td>\n",
       "      <td>0</td>\n",
       "      <td>1</td>\n",
       "      <td>1</td>\n",
       "      <td>0</td>\n",
       "    </tr>\n",
       "    <tr>\n",
       "      <th>2</th>\n",
       "      <td>14900000</td>\n",
       "      <td>1245</td>\n",
       "      <td>Airoli</td>\n",
       "      <td>bhk</td>\n",
       "      <td>2</td>\n",
       "      <td>2</td>\n",
       "      <td>1</td>\n",
       "      <td>1</td>\n",
       "    </tr>\n",
       "    <tr>\n",
       "      <th>3</th>\n",
       "      <td>14000000</td>\n",
       "      <td>1183</td>\n",
       "      <td>Airoli</td>\n",
       "      <td>bhk</td>\n",
       "      <td>2</td>\n",
       "      <td>2</td>\n",
       "      <td>1</td>\n",
       "      <td>0</td>\n",
       "    </tr>\n",
       "    <tr>\n",
       "      <th>5</th>\n",
       "      <td>6400000</td>\n",
       "      <td>495</td>\n",
       "      <td>Airoli</td>\n",
       "      <td>rk</td>\n",
       "      <td>0</td>\n",
       "      <td>1</td>\n",
       "      <td>0</td>\n",
       "      <td>0</td>\n",
       "    </tr>\n",
       "    <tr>\n",
       "      <th>6</th>\n",
       "      <td>3800000</td>\n",
       "      <td>495</td>\n",
       "      <td>Airoli</td>\n",
       "      <td>rk</td>\n",
       "      <td>0</td>\n",
       "      <td>1</td>\n",
       "      <td>0</td>\n",
       "      <td>0</td>\n",
       "    </tr>\n",
       "  </tbody>\n",
       "</table>\n",
       "</div>"
      ],
      "text/plain": [
       "      Price  Area Location sizeRkorBhk  Num_of_bedrooms  Num_of_bathrooms  \\\n",
       "0   6200000   400   Airoli          rk                0                 1   \n",
       "2  14900000  1245   Airoli         bhk                2                 2   \n",
       "3  14000000  1183   Airoli         bhk                2                 2   \n",
       "5   6400000   495   Airoli          rk                0                 1   \n",
       "6   3800000   495   Airoli          rk                0                 1   \n",
       "\n",
       "   CarParking  Gasconnection  \n",
       "0           1              0  \n",
       "2           1              1  \n",
       "3           1              0  \n",
       "5           0              0  \n",
       "6           0              0  "
      ]
     },
     "execution_count": 48,
     "metadata": {},
     "output_type": "execute_result"
    }
   ],
   "source": [
    "#drop price_per_sqft col\n",
    "df10 = df9.drop(['price_per_sqft'],axis='columns')\n",
    "df10.head(5)"
   ]
  },
  {
   "cell_type": "code",
   "execution_count": 49,
   "id": "861281e9",
   "metadata": {},
   "outputs": [],
   "source": [
    "#Model Training\n"
   ]
  },
  {
   "cell_type": "code",
   "execution_count": 50,
   "id": "6b815d24",
   "metadata": {},
   "outputs": [
    {
     "data": {
      "text/html": [
       "<div>\n",
       "<style scoped>\n",
       "    .dataframe tbody tr th:only-of-type {\n",
       "        vertical-align: middle;\n",
       "    }\n",
       "\n",
       "    .dataframe tbody tr th {\n",
       "        vertical-align: top;\n",
       "    }\n",
       "\n",
       "    .dataframe thead th {\n",
       "        text-align: right;\n",
       "    }\n",
       "</style>\n",
       "<table border=\"1\" class=\"dataframe\">\n",
       "  <thead>\n",
       "    <tr style=\"text-align: right;\">\n",
       "      <th></th>\n",
       "      <th>Airoli</th>\n",
       "      <th>Ambernath East</th>\n",
       "      <th>Ambernath West</th>\n",
       "      <th>Andheri</th>\n",
       "      <th>Andheri East</th>\n",
       "      <th>Andheri West</th>\n",
       "      <th>Badlapur East</th>\n",
       "      <th>Bandra East</th>\n",
       "      <th>Bandra West</th>\n",
       "      <th>Belapur</th>\n",
       "      <th>...</th>\n",
       "      <th>Ville Parle East</th>\n",
       "      <th>Virar</th>\n",
       "      <th>Virar East</th>\n",
       "      <th>Virar West</th>\n",
       "      <th>Wadala</th>\n",
       "      <th>Wadala East Wadala</th>\n",
       "      <th>Worli</th>\n",
       "      <th>matunga east</th>\n",
       "      <th>mumbai</th>\n",
       "      <th>other</th>\n",
       "    </tr>\n",
       "  </thead>\n",
       "  <tbody>\n",
       "    <tr>\n",
       "      <th>0</th>\n",
       "      <td>1</td>\n",
       "      <td>0</td>\n",
       "      <td>0</td>\n",
       "      <td>0</td>\n",
       "      <td>0</td>\n",
       "      <td>0</td>\n",
       "      <td>0</td>\n",
       "      <td>0</td>\n",
       "      <td>0</td>\n",
       "      <td>0</td>\n",
       "      <td>...</td>\n",
       "      <td>0</td>\n",
       "      <td>0</td>\n",
       "      <td>0</td>\n",
       "      <td>0</td>\n",
       "      <td>0</td>\n",
       "      <td>0</td>\n",
       "      <td>0</td>\n",
       "      <td>0</td>\n",
       "      <td>0</td>\n",
       "      <td>0</td>\n",
       "    </tr>\n",
       "    <tr>\n",
       "      <th>2</th>\n",
       "      <td>1</td>\n",
       "      <td>0</td>\n",
       "      <td>0</td>\n",
       "      <td>0</td>\n",
       "      <td>0</td>\n",
       "      <td>0</td>\n",
       "      <td>0</td>\n",
       "      <td>0</td>\n",
       "      <td>0</td>\n",
       "      <td>0</td>\n",
       "      <td>...</td>\n",
       "      <td>0</td>\n",
       "      <td>0</td>\n",
       "      <td>0</td>\n",
       "      <td>0</td>\n",
       "      <td>0</td>\n",
       "      <td>0</td>\n",
       "      <td>0</td>\n",
       "      <td>0</td>\n",
       "      <td>0</td>\n",
       "      <td>0</td>\n",
       "    </tr>\n",
       "    <tr>\n",
       "      <th>3</th>\n",
       "      <td>1</td>\n",
       "      <td>0</td>\n",
       "      <td>0</td>\n",
       "      <td>0</td>\n",
       "      <td>0</td>\n",
       "      <td>0</td>\n",
       "      <td>0</td>\n",
       "      <td>0</td>\n",
       "      <td>0</td>\n",
       "      <td>0</td>\n",
       "      <td>...</td>\n",
       "      <td>0</td>\n",
       "      <td>0</td>\n",
       "      <td>0</td>\n",
       "      <td>0</td>\n",
       "      <td>0</td>\n",
       "      <td>0</td>\n",
       "      <td>0</td>\n",
       "      <td>0</td>\n",
       "      <td>0</td>\n",
       "      <td>0</td>\n",
       "    </tr>\n",
       "  </tbody>\n",
       "</table>\n",
       "<p>3 rows × 101 columns</p>\n",
       "</div>"
      ],
      "text/plain": [
       "   Airoli  Ambernath East  Ambernath West  Andheri  Andheri East  \\\n",
       "0       1               0               0        0             0   \n",
       "2       1               0               0        0             0   \n",
       "3       1               0               0        0             0   \n",
       "\n",
       "   Andheri West  Badlapur East  Bandra East  Bandra West  Belapur  ...  \\\n",
       "0             0              0            0            0        0  ...   \n",
       "2             0              0            0            0        0  ...   \n",
       "3             0              0            0            0        0  ...   \n",
       "\n",
       "   Ville Parle East  Virar  Virar East  Virar West  Wadala  \\\n",
       "0                 0      0           0           0       0   \n",
       "2                 0      0           0           0       0   \n",
       "3                 0      0           0           0       0   \n",
       "\n",
       "   Wadala East Wadala  Worli  matunga east  mumbai  other  \n",
       "0                   0      0             0       0      0  \n",
       "2                   0      0             0       0      0  \n",
       "3                   0      0             0       0      0  \n",
       "\n",
       "[3 rows x 101 columns]"
      ]
     },
     "execution_count": 50,
     "metadata": {},
     "output_type": "execute_result"
    }
   ],
   "source": [
    "dummies = pd.get_dummies(df10.Location)\n",
    "dummies.head(3)"
   ]
  },
  {
   "cell_type": "code",
   "execution_count": 51,
   "id": "8576ce7e",
   "metadata": {},
   "outputs": [
    {
     "data": {
      "text/html": [
       "<div>\n",
       "<style scoped>\n",
       "    .dataframe tbody tr th:only-of-type {\n",
       "        vertical-align: middle;\n",
       "    }\n",
       "\n",
       "    .dataframe tbody tr th {\n",
       "        vertical-align: top;\n",
       "    }\n",
       "\n",
       "    .dataframe thead th {\n",
       "        text-align: right;\n",
       "    }\n",
       "</style>\n",
       "<table border=\"1\" class=\"dataframe\">\n",
       "  <thead>\n",
       "    <tr style=\"text-align: right;\">\n",
       "      <th></th>\n",
       "      <th>Price</th>\n",
       "      <th>Area</th>\n",
       "      <th>Location</th>\n",
       "      <th>sizeRkorBhk</th>\n",
       "      <th>Num_of_bedrooms</th>\n",
       "      <th>Num_of_bathrooms</th>\n",
       "      <th>CarParking</th>\n",
       "      <th>Gasconnection</th>\n",
       "      <th>Airoli</th>\n",
       "      <th>Ambernath East</th>\n",
       "      <th>...</th>\n",
       "      <th>Vashi</th>\n",
       "      <th>Ville Parle East</th>\n",
       "      <th>Virar</th>\n",
       "      <th>Virar East</th>\n",
       "      <th>Virar West</th>\n",
       "      <th>Wadala</th>\n",
       "      <th>Wadala East Wadala</th>\n",
       "      <th>Worli</th>\n",
       "      <th>matunga east</th>\n",
       "      <th>mumbai</th>\n",
       "    </tr>\n",
       "  </thead>\n",
       "  <tbody>\n",
       "    <tr>\n",
       "      <th>0</th>\n",
       "      <td>6200000</td>\n",
       "      <td>400</td>\n",
       "      <td>Airoli</td>\n",
       "      <td>rk</td>\n",
       "      <td>0</td>\n",
       "      <td>1</td>\n",
       "      <td>1</td>\n",
       "      <td>0</td>\n",
       "      <td>1</td>\n",
       "      <td>0</td>\n",
       "      <td>...</td>\n",
       "      <td>0</td>\n",
       "      <td>0</td>\n",
       "      <td>0</td>\n",
       "      <td>0</td>\n",
       "      <td>0</td>\n",
       "      <td>0</td>\n",
       "      <td>0</td>\n",
       "      <td>0</td>\n",
       "      <td>0</td>\n",
       "      <td>0</td>\n",
       "    </tr>\n",
       "    <tr>\n",
       "      <th>2</th>\n",
       "      <td>14900000</td>\n",
       "      <td>1245</td>\n",
       "      <td>Airoli</td>\n",
       "      <td>bhk</td>\n",
       "      <td>2</td>\n",
       "      <td>2</td>\n",
       "      <td>1</td>\n",
       "      <td>1</td>\n",
       "      <td>1</td>\n",
       "      <td>0</td>\n",
       "      <td>...</td>\n",
       "      <td>0</td>\n",
       "      <td>0</td>\n",
       "      <td>0</td>\n",
       "      <td>0</td>\n",
       "      <td>0</td>\n",
       "      <td>0</td>\n",
       "      <td>0</td>\n",
       "      <td>0</td>\n",
       "      <td>0</td>\n",
       "      <td>0</td>\n",
       "    </tr>\n",
       "    <tr>\n",
       "      <th>3</th>\n",
       "      <td>14000000</td>\n",
       "      <td>1183</td>\n",
       "      <td>Airoli</td>\n",
       "      <td>bhk</td>\n",
       "      <td>2</td>\n",
       "      <td>2</td>\n",
       "      <td>1</td>\n",
       "      <td>0</td>\n",
       "      <td>1</td>\n",
       "      <td>0</td>\n",
       "      <td>...</td>\n",
       "      <td>0</td>\n",
       "      <td>0</td>\n",
       "      <td>0</td>\n",
       "      <td>0</td>\n",
       "      <td>0</td>\n",
       "      <td>0</td>\n",
       "      <td>0</td>\n",
       "      <td>0</td>\n",
       "      <td>0</td>\n",
       "      <td>0</td>\n",
       "    </tr>\n",
       "  </tbody>\n",
       "</table>\n",
       "<p>3 rows × 108 columns</p>\n",
       "</div>"
      ],
      "text/plain": [
       "      Price  Area Location sizeRkorBhk  Num_of_bedrooms  Num_of_bathrooms  \\\n",
       "0   6200000   400   Airoli          rk                0                 1   \n",
       "2  14900000  1245   Airoli         bhk                2                 2   \n",
       "3  14000000  1183   Airoli         bhk                2                 2   \n",
       "\n",
       "   CarParking  Gasconnection  Airoli  Ambernath East  ...  Vashi  \\\n",
       "0           1              0       1               0  ...      0   \n",
       "2           1              1       1               0  ...      0   \n",
       "3           1              0       1               0  ...      0   \n",
       "\n",
       "   Ville Parle East  Virar  Virar East  Virar West  Wadala  \\\n",
       "0                 0      0           0           0       0   \n",
       "2                 0      0           0           0       0   \n",
       "3                 0      0           0           0       0   \n",
       "\n",
       "   Wadala East Wadala  Worli  matunga east  mumbai  \n",
       "0                   0      0             0       0  \n",
       "2                   0      0             0       0  \n",
       "3                   0      0             0       0  \n",
       "\n",
       "[3 rows x 108 columns]"
      ]
     },
     "execution_count": 51,
     "metadata": {},
     "output_type": "execute_result"
    }
   ],
   "source": [
    "df11 = pd.concat([df10,dummies.drop('other',axis='columns')],axis='columns')\n",
    "df11.head(3)"
   ]
  },
  {
   "cell_type": "code",
   "execution_count": 52,
   "id": "d75db1ec",
   "metadata": {},
   "outputs": [
    {
     "data": {
      "text/html": [
       "<div>\n",
       "<style scoped>\n",
       "    .dataframe tbody tr th:only-of-type {\n",
       "        vertical-align: middle;\n",
       "    }\n",
       "\n",
       "    .dataframe tbody tr th {\n",
       "        vertical-align: top;\n",
       "    }\n",
       "\n",
       "    .dataframe thead th {\n",
       "        text-align: right;\n",
       "    }\n",
       "</style>\n",
       "<table border=\"1\" class=\"dataframe\">\n",
       "  <thead>\n",
       "    <tr style=\"text-align: right;\">\n",
       "      <th></th>\n",
       "      <th>Price</th>\n",
       "      <th>Area</th>\n",
       "      <th>sizeRkorBhk</th>\n",
       "      <th>Num_of_bedrooms</th>\n",
       "      <th>Num_of_bathrooms</th>\n",
       "      <th>CarParking</th>\n",
       "      <th>Gasconnection</th>\n",
       "      <th>Airoli</th>\n",
       "      <th>Ambernath East</th>\n",
       "      <th>Ambernath West</th>\n",
       "      <th>...</th>\n",
       "      <th>Vashi</th>\n",
       "      <th>Ville Parle East</th>\n",
       "      <th>Virar</th>\n",
       "      <th>Virar East</th>\n",
       "      <th>Virar West</th>\n",
       "      <th>Wadala</th>\n",
       "      <th>Wadala East Wadala</th>\n",
       "      <th>Worli</th>\n",
       "      <th>matunga east</th>\n",
       "      <th>mumbai</th>\n",
       "    </tr>\n",
       "  </thead>\n",
       "  <tbody>\n",
       "    <tr>\n",
       "      <th>0</th>\n",
       "      <td>6200000</td>\n",
       "      <td>400</td>\n",
       "      <td>rk</td>\n",
       "      <td>0</td>\n",
       "      <td>1</td>\n",
       "      <td>1</td>\n",
       "      <td>0</td>\n",
       "      <td>1</td>\n",
       "      <td>0</td>\n",
       "      <td>0</td>\n",
       "      <td>...</td>\n",
       "      <td>0</td>\n",
       "      <td>0</td>\n",
       "      <td>0</td>\n",
       "      <td>0</td>\n",
       "      <td>0</td>\n",
       "      <td>0</td>\n",
       "      <td>0</td>\n",
       "      <td>0</td>\n",
       "      <td>0</td>\n",
       "      <td>0</td>\n",
       "    </tr>\n",
       "    <tr>\n",
       "      <th>2</th>\n",
       "      <td>14900000</td>\n",
       "      <td>1245</td>\n",
       "      <td>bhk</td>\n",
       "      <td>2</td>\n",
       "      <td>2</td>\n",
       "      <td>1</td>\n",
       "      <td>1</td>\n",
       "      <td>1</td>\n",
       "      <td>0</td>\n",
       "      <td>0</td>\n",
       "      <td>...</td>\n",
       "      <td>0</td>\n",
       "      <td>0</td>\n",
       "      <td>0</td>\n",
       "      <td>0</td>\n",
       "      <td>0</td>\n",
       "      <td>0</td>\n",
       "      <td>0</td>\n",
       "      <td>0</td>\n",
       "      <td>0</td>\n",
       "      <td>0</td>\n",
       "    </tr>\n",
       "    <tr>\n",
       "      <th>3</th>\n",
       "      <td>14000000</td>\n",
       "      <td>1183</td>\n",
       "      <td>bhk</td>\n",
       "      <td>2</td>\n",
       "      <td>2</td>\n",
       "      <td>1</td>\n",
       "      <td>0</td>\n",
       "      <td>1</td>\n",
       "      <td>0</td>\n",
       "      <td>0</td>\n",
       "      <td>...</td>\n",
       "      <td>0</td>\n",
       "      <td>0</td>\n",
       "      <td>0</td>\n",
       "      <td>0</td>\n",
       "      <td>0</td>\n",
       "      <td>0</td>\n",
       "      <td>0</td>\n",
       "      <td>0</td>\n",
       "      <td>0</td>\n",
       "      <td>0</td>\n",
       "    </tr>\n",
       "  </tbody>\n",
       "</table>\n",
       "<p>3 rows × 107 columns</p>\n",
       "</div>"
      ],
      "text/plain": [
       "      Price  Area sizeRkorBhk  Num_of_bedrooms  Num_of_bathrooms  CarParking  \\\n",
       "0   6200000   400          rk                0                 1           1   \n",
       "2  14900000  1245         bhk                2                 2           1   \n",
       "3  14000000  1183         bhk                2                 2           1   \n",
       "\n",
       "   Gasconnection  Airoli  Ambernath East  Ambernath West  ...  Vashi  \\\n",
       "0              0       1               0               0  ...      0   \n",
       "2              1       1               0               0  ...      0   \n",
       "3              0       1               0               0  ...      0   \n",
       "\n",
       "   Ville Parle East  Virar  Virar East  Virar West  Wadala  \\\n",
       "0                 0      0           0           0       0   \n",
       "2                 0      0           0           0       0   \n",
       "3                 0      0           0           0       0   \n",
       "\n",
       "   Wadala East Wadala  Worli  matunga east  mumbai  \n",
       "0                   0      0             0       0  \n",
       "2                   0      0             0       0  \n",
       "3                   0      0             0       0  \n",
       "\n",
       "[3 rows x 107 columns]"
      ]
     },
     "execution_count": 52,
     "metadata": {},
     "output_type": "execute_result"
    }
   ],
   "source": [
    "#drop Location col\n",
    "df12 = df11.drop('Location',axis='columns')\n",
    "df12.head(3)"
   ]
  },
  {
   "cell_type": "code",
   "execution_count": 53,
   "id": "834a17e6",
   "metadata": {},
   "outputs": [
    {
     "data": {
      "text/plain": [
       "(4508, 107)"
      ]
     },
     "execution_count": 53,
     "metadata": {},
     "output_type": "execute_result"
    }
   ],
   "source": [
    "df12.shape"
   ]
  },
  {
   "cell_type": "code",
   "execution_count": 54,
   "id": "dcce52a6",
   "metadata": {},
   "outputs": [],
   "source": [
    "# for size(rk or bhk) col\n"
   ]
  },
  {
   "cell_type": "code",
   "execution_count": 55,
   "id": "ab1318a4",
   "metadata": {},
   "outputs": [
    {
     "data": {
      "text/html": [
       "<div>\n",
       "<style scoped>\n",
       "    .dataframe tbody tr th:only-of-type {\n",
       "        vertical-align: middle;\n",
       "    }\n",
       "\n",
       "    .dataframe tbody tr th {\n",
       "        vertical-align: top;\n",
       "    }\n",
       "\n",
       "    .dataframe thead th {\n",
       "        text-align: right;\n",
       "    }\n",
       "</style>\n",
       "<table border=\"1\" class=\"dataframe\">\n",
       "  <thead>\n",
       "    <tr style=\"text-align: right;\">\n",
       "      <th></th>\n",
       "      <th>bhk</th>\n",
       "      <th>rk</th>\n",
       "    </tr>\n",
       "  </thead>\n",
       "  <tbody>\n",
       "    <tr>\n",
       "      <th>0</th>\n",
       "      <td>0</td>\n",
       "      <td>1</td>\n",
       "    </tr>\n",
       "    <tr>\n",
       "      <th>2</th>\n",
       "      <td>1</td>\n",
       "      <td>0</td>\n",
       "    </tr>\n",
       "    <tr>\n",
       "      <th>3</th>\n",
       "      <td>1</td>\n",
       "      <td>0</td>\n",
       "    </tr>\n",
       "  </tbody>\n",
       "</table>\n",
       "</div>"
      ],
      "text/plain": [
       "   bhk  rk\n",
       "0    0   1\n",
       "2    1   0\n",
       "3    1   0"
      ]
     },
     "execution_count": 55,
     "metadata": {},
     "output_type": "execute_result"
    }
   ],
   "source": [
    "dummies2 = pd.get_dummies(df12.sizeRkorBhk)\n",
    "dummies2.head(3)"
   ]
  },
  {
   "cell_type": "code",
   "execution_count": 56,
   "id": "58f8db42",
   "metadata": {},
   "outputs": [
    {
     "data": {
      "text/html": [
       "<div>\n",
       "<style scoped>\n",
       "    .dataframe tbody tr th:only-of-type {\n",
       "        vertical-align: middle;\n",
       "    }\n",
       "\n",
       "    .dataframe tbody tr th {\n",
       "        vertical-align: top;\n",
       "    }\n",
       "\n",
       "    .dataframe thead th {\n",
       "        text-align: right;\n",
       "    }\n",
       "</style>\n",
       "<table border=\"1\" class=\"dataframe\">\n",
       "  <thead>\n",
       "    <tr style=\"text-align: right;\">\n",
       "      <th></th>\n",
       "      <th>Price</th>\n",
       "      <th>Area</th>\n",
       "      <th>sizeRkorBhk</th>\n",
       "      <th>Num_of_bedrooms</th>\n",
       "      <th>Num_of_bathrooms</th>\n",
       "      <th>CarParking</th>\n",
       "      <th>Gasconnection</th>\n",
       "      <th>Airoli</th>\n",
       "      <th>Ambernath East</th>\n",
       "      <th>Ambernath West</th>\n",
       "      <th>...</th>\n",
       "      <th>Virar</th>\n",
       "      <th>Virar East</th>\n",
       "      <th>Virar West</th>\n",
       "      <th>Wadala</th>\n",
       "      <th>Wadala East Wadala</th>\n",
       "      <th>Worli</th>\n",
       "      <th>matunga east</th>\n",
       "      <th>mumbai</th>\n",
       "      <th>bhk</th>\n",
       "      <th>rk</th>\n",
       "    </tr>\n",
       "  </thead>\n",
       "  <tbody>\n",
       "    <tr>\n",
       "      <th>0</th>\n",
       "      <td>6200000</td>\n",
       "      <td>400</td>\n",
       "      <td>rk</td>\n",
       "      <td>0</td>\n",
       "      <td>1</td>\n",
       "      <td>1</td>\n",
       "      <td>0</td>\n",
       "      <td>1</td>\n",
       "      <td>0</td>\n",
       "      <td>0</td>\n",
       "      <td>...</td>\n",
       "      <td>0</td>\n",
       "      <td>0</td>\n",
       "      <td>0</td>\n",
       "      <td>0</td>\n",
       "      <td>0</td>\n",
       "      <td>0</td>\n",
       "      <td>0</td>\n",
       "      <td>0</td>\n",
       "      <td>0</td>\n",
       "      <td>1</td>\n",
       "    </tr>\n",
       "    <tr>\n",
       "      <th>2</th>\n",
       "      <td>14900000</td>\n",
       "      <td>1245</td>\n",
       "      <td>bhk</td>\n",
       "      <td>2</td>\n",
       "      <td>2</td>\n",
       "      <td>1</td>\n",
       "      <td>1</td>\n",
       "      <td>1</td>\n",
       "      <td>0</td>\n",
       "      <td>0</td>\n",
       "      <td>...</td>\n",
       "      <td>0</td>\n",
       "      <td>0</td>\n",
       "      <td>0</td>\n",
       "      <td>0</td>\n",
       "      <td>0</td>\n",
       "      <td>0</td>\n",
       "      <td>0</td>\n",
       "      <td>0</td>\n",
       "      <td>1</td>\n",
       "      <td>0</td>\n",
       "    </tr>\n",
       "    <tr>\n",
       "      <th>3</th>\n",
       "      <td>14000000</td>\n",
       "      <td>1183</td>\n",
       "      <td>bhk</td>\n",
       "      <td>2</td>\n",
       "      <td>2</td>\n",
       "      <td>1</td>\n",
       "      <td>0</td>\n",
       "      <td>1</td>\n",
       "      <td>0</td>\n",
       "      <td>0</td>\n",
       "      <td>...</td>\n",
       "      <td>0</td>\n",
       "      <td>0</td>\n",
       "      <td>0</td>\n",
       "      <td>0</td>\n",
       "      <td>0</td>\n",
       "      <td>0</td>\n",
       "      <td>0</td>\n",
       "      <td>0</td>\n",
       "      <td>1</td>\n",
       "      <td>0</td>\n",
       "    </tr>\n",
       "  </tbody>\n",
       "</table>\n",
       "<p>3 rows × 109 columns</p>\n",
       "</div>"
      ],
      "text/plain": [
       "      Price  Area sizeRkorBhk  Num_of_bedrooms  Num_of_bathrooms  CarParking  \\\n",
       "0   6200000   400          rk                0                 1           1   \n",
       "2  14900000  1245         bhk                2                 2           1   \n",
       "3  14000000  1183         bhk                2                 2           1   \n",
       "\n",
       "   Gasconnection  Airoli  Ambernath East  Ambernath West  ...  Virar  \\\n",
       "0              0       1               0               0  ...      0   \n",
       "2              1       1               0               0  ...      0   \n",
       "3              0       1               0               0  ...      0   \n",
       "\n",
       "   Virar East  Virar West  Wadala  Wadala East Wadala  Worli  matunga east  \\\n",
       "0           0           0       0                   0      0             0   \n",
       "2           0           0       0                   0      0             0   \n",
       "3           0           0       0                   0      0             0   \n",
       "\n",
       "   mumbai  bhk  rk  \n",
       "0       0    0   1  \n",
       "2       0    1   0  \n",
       "3       0    1   0  \n",
       "\n",
       "[3 rows x 109 columns]"
      ]
     },
     "execution_count": 56,
     "metadata": {},
     "output_type": "execute_result"
    }
   ],
   "source": [
    "df13 = pd.concat([df12,dummies2],axis='columns')\n",
    "df13.head(3)"
   ]
  },
  {
   "cell_type": "code",
   "execution_count": 57,
   "id": "a50afe27",
   "metadata": {},
   "outputs": [
    {
     "data": {
      "text/html": [
       "<div>\n",
       "<style scoped>\n",
       "    .dataframe tbody tr th:only-of-type {\n",
       "        vertical-align: middle;\n",
       "    }\n",
       "\n",
       "    .dataframe tbody tr th {\n",
       "        vertical-align: top;\n",
       "    }\n",
       "\n",
       "    .dataframe thead th {\n",
       "        text-align: right;\n",
       "    }\n",
       "</style>\n",
       "<table border=\"1\" class=\"dataframe\">\n",
       "  <thead>\n",
       "    <tr style=\"text-align: right;\">\n",
       "      <th></th>\n",
       "      <th>Price</th>\n",
       "      <th>Area</th>\n",
       "      <th>Num_of_bedrooms</th>\n",
       "      <th>Num_of_bathrooms</th>\n",
       "      <th>CarParking</th>\n",
       "      <th>Gasconnection</th>\n",
       "      <th>Airoli</th>\n",
       "      <th>Ambernath East</th>\n",
       "      <th>Ambernath West</th>\n",
       "      <th>Andheri</th>\n",
       "      <th>...</th>\n",
       "      <th>Virar</th>\n",
       "      <th>Virar East</th>\n",
       "      <th>Virar West</th>\n",
       "      <th>Wadala</th>\n",
       "      <th>Wadala East Wadala</th>\n",
       "      <th>Worli</th>\n",
       "      <th>matunga east</th>\n",
       "      <th>mumbai</th>\n",
       "      <th>bhk</th>\n",
       "      <th>rk</th>\n",
       "    </tr>\n",
       "  </thead>\n",
       "  <tbody>\n",
       "    <tr>\n",
       "      <th>0</th>\n",
       "      <td>6200000</td>\n",
       "      <td>400</td>\n",
       "      <td>0</td>\n",
       "      <td>1</td>\n",
       "      <td>1</td>\n",
       "      <td>0</td>\n",
       "      <td>1</td>\n",
       "      <td>0</td>\n",
       "      <td>0</td>\n",
       "      <td>0</td>\n",
       "      <td>...</td>\n",
       "      <td>0</td>\n",
       "      <td>0</td>\n",
       "      <td>0</td>\n",
       "      <td>0</td>\n",
       "      <td>0</td>\n",
       "      <td>0</td>\n",
       "      <td>0</td>\n",
       "      <td>0</td>\n",
       "      <td>0</td>\n",
       "      <td>1</td>\n",
       "    </tr>\n",
       "    <tr>\n",
       "      <th>2</th>\n",
       "      <td>14900000</td>\n",
       "      <td>1245</td>\n",
       "      <td>2</td>\n",
       "      <td>2</td>\n",
       "      <td>1</td>\n",
       "      <td>1</td>\n",
       "      <td>1</td>\n",
       "      <td>0</td>\n",
       "      <td>0</td>\n",
       "      <td>0</td>\n",
       "      <td>...</td>\n",
       "      <td>0</td>\n",
       "      <td>0</td>\n",
       "      <td>0</td>\n",
       "      <td>0</td>\n",
       "      <td>0</td>\n",
       "      <td>0</td>\n",
       "      <td>0</td>\n",
       "      <td>0</td>\n",
       "      <td>1</td>\n",
       "      <td>0</td>\n",
       "    </tr>\n",
       "    <tr>\n",
       "      <th>3</th>\n",
       "      <td>14000000</td>\n",
       "      <td>1183</td>\n",
       "      <td>2</td>\n",
       "      <td>2</td>\n",
       "      <td>1</td>\n",
       "      <td>0</td>\n",
       "      <td>1</td>\n",
       "      <td>0</td>\n",
       "      <td>0</td>\n",
       "      <td>0</td>\n",
       "      <td>...</td>\n",
       "      <td>0</td>\n",
       "      <td>0</td>\n",
       "      <td>0</td>\n",
       "      <td>0</td>\n",
       "      <td>0</td>\n",
       "      <td>0</td>\n",
       "      <td>0</td>\n",
       "      <td>0</td>\n",
       "      <td>1</td>\n",
       "      <td>0</td>\n",
       "    </tr>\n",
       "  </tbody>\n",
       "</table>\n",
       "<p>3 rows × 108 columns</p>\n",
       "</div>"
      ],
      "text/plain": [
       "      Price  Area  Num_of_bedrooms  Num_of_bathrooms  CarParking  \\\n",
       "0   6200000   400                0                 1           1   \n",
       "2  14900000  1245                2                 2           1   \n",
       "3  14000000  1183                2                 2           1   \n",
       "\n",
       "   Gasconnection  Airoli  Ambernath East  Ambernath West  Andheri  ...  Virar  \\\n",
       "0              0       1               0               0        0  ...      0   \n",
       "2              1       1               0               0        0  ...      0   \n",
       "3              0       1               0               0        0  ...      0   \n",
       "\n",
       "   Virar East  Virar West  Wadala  Wadala East Wadala  Worli  matunga east  \\\n",
       "0           0           0       0                   0      0             0   \n",
       "2           0           0       0                   0      0             0   \n",
       "3           0           0       0                   0      0             0   \n",
       "\n",
       "   mumbai  bhk  rk  \n",
       "0       0    0   1  \n",
       "2       0    1   0  \n",
       "3       0    1   0  \n",
       "\n",
       "[3 rows x 108 columns]"
      ]
     },
     "execution_count": 57,
     "metadata": {},
     "output_type": "execute_result"
    }
   ],
   "source": [
    "#drop sizeRkorBhk col\n",
    "df14 = df13.drop('sizeRkorBhk',axis='columns')\n",
    "df14.head(3)"
   ]
  },
  {
   "cell_type": "code",
   "execution_count": 58,
   "id": "e6e0ea36",
   "metadata": {},
   "outputs": [
    {
     "data": {
      "text/html": [
       "<div>\n",
       "<style scoped>\n",
       "    .dataframe tbody tr th:only-of-type {\n",
       "        vertical-align: middle;\n",
       "    }\n",
       "\n",
       "    .dataframe tbody tr th {\n",
       "        vertical-align: top;\n",
       "    }\n",
       "\n",
       "    .dataframe thead th {\n",
       "        text-align: right;\n",
       "    }\n",
       "</style>\n",
       "<table border=\"1\" class=\"dataframe\">\n",
       "  <thead>\n",
       "    <tr style=\"text-align: right;\">\n",
       "      <th></th>\n",
       "      <th>Area</th>\n",
       "      <th>Num_of_bedrooms</th>\n",
       "      <th>Num_of_bathrooms</th>\n",
       "      <th>CarParking</th>\n",
       "      <th>Gasconnection</th>\n",
       "      <th>Airoli</th>\n",
       "      <th>Ambernath East</th>\n",
       "      <th>Ambernath West</th>\n",
       "      <th>Andheri</th>\n",
       "      <th>Andheri East</th>\n",
       "      <th>...</th>\n",
       "      <th>Virar</th>\n",
       "      <th>Virar East</th>\n",
       "      <th>Virar West</th>\n",
       "      <th>Wadala</th>\n",
       "      <th>Wadala East Wadala</th>\n",
       "      <th>Worli</th>\n",
       "      <th>matunga east</th>\n",
       "      <th>mumbai</th>\n",
       "      <th>bhk</th>\n",
       "      <th>rk</th>\n",
       "    </tr>\n",
       "  </thead>\n",
       "  <tbody>\n",
       "    <tr>\n",
       "      <th>0</th>\n",
       "      <td>400</td>\n",
       "      <td>0</td>\n",
       "      <td>1</td>\n",
       "      <td>1</td>\n",
       "      <td>0</td>\n",
       "      <td>1</td>\n",
       "      <td>0</td>\n",
       "      <td>0</td>\n",
       "      <td>0</td>\n",
       "      <td>0</td>\n",
       "      <td>...</td>\n",
       "      <td>0</td>\n",
       "      <td>0</td>\n",
       "      <td>0</td>\n",
       "      <td>0</td>\n",
       "      <td>0</td>\n",
       "      <td>0</td>\n",
       "      <td>0</td>\n",
       "      <td>0</td>\n",
       "      <td>0</td>\n",
       "      <td>1</td>\n",
       "    </tr>\n",
       "    <tr>\n",
       "      <th>2</th>\n",
       "      <td>1245</td>\n",
       "      <td>2</td>\n",
       "      <td>2</td>\n",
       "      <td>1</td>\n",
       "      <td>1</td>\n",
       "      <td>1</td>\n",
       "      <td>0</td>\n",
       "      <td>0</td>\n",
       "      <td>0</td>\n",
       "      <td>0</td>\n",
       "      <td>...</td>\n",
       "      <td>0</td>\n",
       "      <td>0</td>\n",
       "      <td>0</td>\n",
       "      <td>0</td>\n",
       "      <td>0</td>\n",
       "      <td>0</td>\n",
       "      <td>0</td>\n",
       "      <td>0</td>\n",
       "      <td>1</td>\n",
       "      <td>0</td>\n",
       "    </tr>\n",
       "    <tr>\n",
       "      <th>3</th>\n",
       "      <td>1183</td>\n",
       "      <td>2</td>\n",
       "      <td>2</td>\n",
       "      <td>1</td>\n",
       "      <td>0</td>\n",
       "      <td>1</td>\n",
       "      <td>0</td>\n",
       "      <td>0</td>\n",
       "      <td>0</td>\n",
       "      <td>0</td>\n",
       "      <td>...</td>\n",
       "      <td>0</td>\n",
       "      <td>0</td>\n",
       "      <td>0</td>\n",
       "      <td>0</td>\n",
       "      <td>0</td>\n",
       "      <td>0</td>\n",
       "      <td>0</td>\n",
       "      <td>0</td>\n",
       "      <td>1</td>\n",
       "      <td>0</td>\n",
       "    </tr>\n",
       "    <tr>\n",
       "      <th>5</th>\n",
       "      <td>495</td>\n",
       "      <td>0</td>\n",
       "      <td>1</td>\n",
       "      <td>0</td>\n",
       "      <td>0</td>\n",
       "      <td>1</td>\n",
       "      <td>0</td>\n",
       "      <td>0</td>\n",
       "      <td>0</td>\n",
       "      <td>0</td>\n",
       "      <td>...</td>\n",
       "      <td>0</td>\n",
       "      <td>0</td>\n",
       "      <td>0</td>\n",
       "      <td>0</td>\n",
       "      <td>0</td>\n",
       "      <td>0</td>\n",
       "      <td>0</td>\n",
       "      <td>0</td>\n",
       "      <td>0</td>\n",
       "      <td>1</td>\n",
       "    </tr>\n",
       "    <tr>\n",
       "      <th>6</th>\n",
       "      <td>495</td>\n",
       "      <td>0</td>\n",
       "      <td>1</td>\n",
       "      <td>0</td>\n",
       "      <td>0</td>\n",
       "      <td>1</td>\n",
       "      <td>0</td>\n",
       "      <td>0</td>\n",
       "      <td>0</td>\n",
       "      <td>0</td>\n",
       "      <td>...</td>\n",
       "      <td>0</td>\n",
       "      <td>0</td>\n",
       "      <td>0</td>\n",
       "      <td>0</td>\n",
       "      <td>0</td>\n",
       "      <td>0</td>\n",
       "      <td>0</td>\n",
       "      <td>0</td>\n",
       "      <td>0</td>\n",
       "      <td>1</td>\n",
       "    </tr>\n",
       "  </tbody>\n",
       "</table>\n",
       "<p>5 rows × 107 columns</p>\n",
       "</div>"
      ],
      "text/plain": [
       "   Area  Num_of_bedrooms  Num_of_bathrooms  CarParking  Gasconnection  Airoli  \\\n",
       "0   400                0                 1           1              0       1   \n",
       "2  1245                2                 2           1              1       1   \n",
       "3  1183                2                 2           1              0       1   \n",
       "5   495                0                 1           0              0       1   \n",
       "6   495                0                 1           0              0       1   \n",
       "\n",
       "   Ambernath East  Ambernath West  Andheri  Andheri East  ...  Virar  \\\n",
       "0               0               0        0             0  ...      0   \n",
       "2               0               0        0             0  ...      0   \n",
       "3               0               0        0             0  ...      0   \n",
       "5               0               0        0             0  ...      0   \n",
       "6               0               0        0             0  ...      0   \n",
       "\n",
       "   Virar East  Virar West  Wadala  Wadala East Wadala  Worli  matunga east  \\\n",
       "0           0           0       0                   0      0             0   \n",
       "2           0           0       0                   0      0             0   \n",
       "3           0           0       0                   0      0             0   \n",
       "5           0           0       0                   0      0             0   \n",
       "6           0           0       0                   0      0             0   \n",
       "\n",
       "   mumbai  bhk  rk  \n",
       "0       0    0   1  \n",
       "2       0    1   0  \n",
       "3       0    1   0  \n",
       "5       0    0   1  \n",
       "6       0    0   1  \n",
       "\n",
       "[5 rows x 107 columns]"
      ]
     },
     "execution_count": 58,
     "metadata": {},
     "output_type": "execute_result"
    }
   ],
   "source": [
    "X = df14.drop('Price',axis='columns')\n",
    "X.head(5)"
   ]
  },
  {
   "cell_type": "code",
   "execution_count": 59,
   "id": "ec12133a",
   "metadata": {},
   "outputs": [
    {
     "data": {
      "text/plain": [
       "0     6200000\n",
       "2    14900000\n",
       "3    14000000\n",
       "5     6400000\n",
       "6     3800000\n",
       "Name: Price, dtype: int64"
      ]
     },
     "execution_count": 59,
     "metadata": {},
     "output_type": "execute_result"
    }
   ],
   "source": [
    "Y = df14.Price\n",
    "Y.head(5)"
   ]
  },
  {
   "cell_type": "code",
   "execution_count": 60,
   "id": "0f4a1c21",
   "metadata": {},
   "outputs": [],
   "source": [
    "from sklearn.model_selection import train_test_split\n",
    "X_train,X_test,Y_train,Y_test = train_test_split(X,Y,test_size = 0.2,random_state=10)\n"
   ]
  },
  {
   "cell_type": "code",
   "execution_count": 61,
   "id": "d747bc64",
   "metadata": {},
   "outputs": [
    {
     "data": {
      "text/plain": [
       "0.7330310454699334"
      ]
     },
     "execution_count": 61,
     "metadata": {},
     "output_type": "execute_result"
    }
   ],
   "source": [
    "from sklearn.linear_model import LinearRegression\n",
    "lr_clf = LinearRegression()\n",
    "lr_clf.fit(X_train,Y_train)\n",
    "lr_clf.score(X_test,Y_test)"
   ]
  },
  {
   "cell_type": "code",
   "execution_count": 62,
   "id": "25149d1b",
   "metadata": {},
   "outputs": [
    {
     "data": {
      "text/plain": [
       "array([   0.75218189, -132.63173604,    0.31908042,    0.71371532,\n",
       "          0.69545826])"
      ]
     },
     "execution_count": 62,
     "metadata": {},
     "output_type": "execute_result"
    }
   ],
   "source": [
    "from sklearn.model_selection import ShuffleSplit\n",
    "from sklearn.model_selection import cross_val_score\n",
    "\n",
    "cv = ShuffleSplit(n_splits=5,test_size=0.2,random_state=0)\n",
    "cross_val_score(LinearRegression(),X,Y,cv=cv)"
   ]
  },
  {
   "cell_type": "code",
   "execution_count": 63,
   "id": "8f05faf0",
   "metadata": {},
   "outputs": [],
   "source": [
    "#Sklearn provide GridSearchCV API for train the data with different algo\n",
    "\n",
    "from sklearn.model_selection import GridSearchCV\n",
    "\n",
    "from sklearn.linear_model import Lasso\n",
    "from sklearn.tree import DecisionTreeRegressor\n",
    "\n",
    "def find_best_model_using_gridsearchcv(X,Y):\n",
    "    algos = {\n",
    "        'linear_regression':{\n",
    "            'model':LinearRegression(),\n",
    "            'params':{\n",
    "                'normalize':[True,False]\n",
    "            } \n",
    "        },\n",
    "        'lasso':{\n",
    "            'model':Lasso(),\n",
    "            'params':{\n",
    "                'alpha':[1,2],\n",
    "                'selection':['random','cyclic']\n",
    "            }\n",
    "        },\n",
    "        'decision_tree':{\n",
    "            'model':DecisionTreeRegressor(),\n",
    "            'params':{\n",
    "                'criterion':['mse','friedman_mse'],\n",
    "                'splitter':['best','random']\n",
    "            }\n",
    "        }\n",
    "    }\n",
    "    scores = []\n",
    "    cv=ShuffleSplit(n_splits=5, test_size=0.2, random_state=0)\n",
    "    for algo_name,config in algos.items():\n",
    "        gs=GridSearchCV(config['model'], config['params'], cv=cv, return_train_score=False)\n",
    "        gs.fit(X,Y)\n",
    "        scores.append({\n",
    "            'model':algo_name,\n",
    "            'best_score':gs.best_score_,\n",
    "            'best_params':gs.best_params_\n",
    "        })\n",
    "        return pd.DataFrame(scores,columns=['model','best_score','best_params'])\n",
    "    \n",
    "    find_best_model_using_gridsearchcv(X,Y)"
   ]
  },
  {
   "cell_type": "code",
   "execution_count": 64,
   "id": "93ce20d2",
   "metadata": {},
   "outputs": [
    {
     "name": "stdout",
     "output_type": "stream",
     "text": [
      "(3606, 107)\n",
      "(902, 107)\n"
     ]
    }
   ],
   "source": [
    "print(X_train.shape)\n",
    "print(X_test.shape)"
   ]
  },
  {
   "cell_type": "code",
   "execution_count": 65,
   "id": "7b674e84",
   "metadata": {},
   "outputs": [
    {
     "data": {
      "text/plain": [
       "Index(['Area', 'Num_of_bedrooms', 'Num_of_bathrooms', 'CarParking',\n",
       "       'Gasconnection', 'Airoli', 'Ambernath East', 'Ambernath West',\n",
       "       'Andheri', 'Andheri East',\n",
       "       ...\n",
       "       'Virar', 'Virar East', 'Virar West', 'Wadala', 'Wadala East Wadala',\n",
       "       'Worli', 'matunga east', 'mumbai', 'bhk', 'rk'],\n",
       "      dtype='object', length=107)"
      ]
     },
     "execution_count": 65,
     "metadata": {},
     "output_type": "execute_result"
    }
   ],
   "source": [
    "X.columns"
   ]
  },
  {
   "cell_type": "code",
   "execution_count": 66,
   "id": "ee6f2c04",
   "metadata": {},
   "outputs": [
    {
     "data": {
      "text/plain": [
       "6"
      ]
     },
     "execution_count": 66,
     "metadata": {},
     "output_type": "execute_result"
    }
   ],
   "source": [
    "np.where(X.columns == 'Ambernath East')[0][0]"
   ]
  },
  {
   "cell_type": "code",
   "execution_count": 74,
   "id": "7027f1a6",
   "metadata": {},
   "outputs": [],
   "source": [
    "def predict_price(Location,Area,Num_of_bathrooms,Num_of_bedrooms):\n",
    "    loc_index = np.where(X.columns == Location)[0][0]\n",
    "    \n",
    "    x = np.zeros(len(X.columns))\n",
    "    x[0]=Area\n",
    "    x[1]=Num_of_bathrooms\n",
    "    x[2]=Num_of_bedrooms\n",
    "    if loc_index >= 0:\n",
    "        x[loc_index] = 1\n",
    "        \n",
    "        return lr_clf.predict([x])[0]\n",
    "    "
   ]
  },
  {
   "cell_type": "code",
   "execution_count": 78,
   "id": "e8bab497",
   "metadata": {},
   "outputs": [
    {
     "data": {
      "text/plain": [
       "13564582.129650885"
      ]
     },
     "execution_count": 78,
     "metadata": {},
     "output_type": "execute_result"
    }
   ],
   "source": [
    "predict_price('Virar',1000,1,2)"
   ]
  },
  {
   "cell_type": "code",
   "execution_count": 79,
   "id": "becf85bf",
   "metadata": {},
   "outputs": [
    {
     "data": {
      "text/plain": [
       "4370646.247461321"
      ]
     },
     "execution_count": 79,
     "metadata": {},
     "output_type": "execute_result"
    }
   ],
   "source": [
    "predict_price('Airoli',495,1,0)"
   ]
  },
  {
   "cell_type": "code",
   "execution_count": 80,
   "id": "c089c849",
   "metadata": {},
   "outputs": [
    {
     "data": {
      "text/plain": [
       "13784762.771399014"
      ]
     },
     "execution_count": 80,
     "metadata": {},
     "output_type": "execute_result"
    }
   ],
   "source": [
    "predict_price('Airoli',800,1,2)"
   ]
  },
  {
   "cell_type": "code",
   "execution_count": 81,
   "id": "4154b91e",
   "metadata": {},
   "outputs": [],
   "source": [
    "#"
   ]
  },
  {
   "cell_type": "code",
   "execution_count": 82,
   "id": "932b1939",
   "metadata": {},
   "outputs": [],
   "source": [
    "import pickle\n",
    "with open('mumbai_house_prices_model.pickle','wb') as f:\n",
    "    pickle.dump(lr_clf,f)"
   ]
  },
  {
   "cell_type": "code",
   "execution_count": 83,
   "id": "907acc23",
   "metadata": {},
   "outputs": [],
   "source": [
    "import json\n",
    "columns = {\n",
    "    'data_columns':[col.lower() for col in X.columns]\n",
    "}\n",
    "with open(\"columns.json\",\"w\") as f:\n",
    "    f.write(json.dumps(columns))"
   ]
  },
  {
   "cell_type": "code",
   "execution_count": null,
   "id": "493c18e8",
   "metadata": {},
   "outputs": [],
   "source": []
  },
  {
   "cell_type": "code",
   "execution_count": null,
   "id": "54b1d452",
   "metadata": {},
   "outputs": [],
   "source": []
  },
  {
   "cell_type": "code",
   "execution_count": null,
   "id": "4a27037f",
   "metadata": {},
   "outputs": [],
   "source": []
  },
  {
   "cell_type": "code",
   "execution_count": null,
   "id": "8ef26fb9",
   "metadata": {},
   "outputs": [],
   "source": []
  },
  {
   "cell_type": "code",
   "execution_count": null,
   "id": "f626b41e",
   "metadata": {},
   "outputs": [],
   "source": []
  },
  {
   "cell_type": "code",
   "execution_count": null,
   "id": "bdcd9387",
   "metadata": {},
   "outputs": [],
   "source": []
  },
  {
   "cell_type": "code",
   "execution_count": null,
   "id": "feca63a6",
   "metadata": {},
   "outputs": [],
   "source": []
  },
  {
   "cell_type": "code",
   "execution_count": null,
   "id": "2aadb973",
   "metadata": {},
   "outputs": [],
   "source": []
  },
  {
   "cell_type": "code",
   "execution_count": null,
   "id": "8792ab9f",
   "metadata": {},
   "outputs": [],
   "source": []
  },
  {
   "cell_type": "code",
   "execution_count": null,
   "id": "f9a3231b",
   "metadata": {},
   "outputs": [],
   "source": []
  },
  {
   "cell_type": "code",
   "execution_count": null,
   "id": "b8603548",
   "metadata": {},
   "outputs": [],
   "source": []
  },
  {
   "cell_type": "code",
   "execution_count": null,
   "id": "050bf7d2",
   "metadata": {},
   "outputs": [],
   "source": []
  },
  {
   "cell_type": "code",
   "execution_count": null,
   "id": "a3073925",
   "metadata": {},
   "outputs": [],
   "source": []
  },
  {
   "cell_type": "code",
   "execution_count": null,
   "id": "1f5b9969",
   "metadata": {},
   "outputs": [],
   "source": []
  },
  {
   "cell_type": "code",
   "execution_count": null,
   "id": "b4b5d295",
   "metadata": {},
   "outputs": [],
   "source": []
  },
  {
   "cell_type": "code",
   "execution_count": null,
   "id": "7e4f4a1f",
   "metadata": {},
   "outputs": [],
   "source": []
  },
  {
   "cell_type": "code",
   "execution_count": null,
   "id": "c0ed05a8",
   "metadata": {},
   "outputs": [],
   "source": []
  },
  {
   "cell_type": "code",
   "execution_count": null,
   "id": "61fd3abe",
   "metadata": {},
   "outputs": [],
   "source": []
  },
  {
   "cell_type": "code",
   "execution_count": null,
   "id": "1f471179",
   "metadata": {},
   "outputs": [],
   "source": []
  }
 ],
 "metadata": {
  "kernelspec": {
   "display_name": "Python 3",
   "language": "python",
   "name": "python3"
  },
  "language_info": {
   "codemirror_mode": {
    "name": "ipython",
    "version": 3
   },
   "file_extension": ".py",
   "mimetype": "text/x-python",
   "name": "python",
   "nbconvert_exporter": "python",
   "pygments_lexer": "ipython3",
   "version": "3.8.8"
  }
 },
 "nbformat": 4,
 "nbformat_minor": 5
}
